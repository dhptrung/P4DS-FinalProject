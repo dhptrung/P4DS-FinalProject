{
 "cells": [
  {
   "cell_type": "markdown",
   "id": "ee1d28f2-ced2-4e3f-b1b3-8089792b91f9",
   "metadata": {},
   "source": [
    "<center style=\"color:red;font-size:35px;padding:15px\"><b> ĐỒ ÁN CUỐI KỲ </b></center>\n",
    "<center style=\"color:blue;font-size:30px;padding:15px\"><b> LẬP TRÌNH CHO KHOA HỌC DỮ LIỆU</b></center>\n",
    "<center style=\"color:black;font-size:20px;padding:5px\"><b><a href=\"https://github.com/dhptrung/P4DS-FinalProject\">Thùng chứa GitHub</a></b></center>"
   ]
  },
  {
   "cell_type": "markdown",
   "id": "57412990-31df-471a-bcce-9e5f8cede167",
   "metadata": {},
   "source": [
    "---"
   ]
  },
  {
   "cell_type": "markdown",
   "id": "b93f45d5-46dc-4895-bcd5-886d0faa0e87",
   "metadata": {},
   "source": [
    "| MSSV | Họ và tên | Tài khoản GitHub |\n",
    "|:----:|:---:|:---:|\n",
    "|18120066| Bùi Đoàn Hữu Nhân | https://github.com/bdhnhan |\n",
    "|18120097| Đinh Hữu Phúc Trung| https://github.com/dhptrung |"
   ]
  },
  {
   "cell_type": "markdown",
   "id": "2e868630-a282-47df-a86c-40a6bc22a15a",
   "metadata": {},
   "source": [
    "# Import các thư viện cần thiết"
   ]
  },
  {
   "cell_type": "code",
   "execution_count": 1,
   "id": "0351aaa0",
   "metadata": {},
   "outputs": [],
   "source": [
    "import numpy as np\n",
    "import pandas as pd"
   ]
  },
  {
   "cell_type": "markdown",
   "id": "c671618b-e9d1-4874-ad22-8451a383a0f4",
   "metadata": {},
   "source": [
    "# Thu thập dữ liệu"
   ]
  },
  {
   "cell_type": "markdown",
   "id": "39a9d1e7",
   "metadata": {},
   "source": [
    "## Dữ liệu là về chủ đề gì và lấy từ nguồn nào?"
   ]
  },
  {
   "cell_type": "markdown",
   "id": "2b088cb7",
   "metadata": {},
   "source": [
    "- Dữ liệu mà nhóm em sử dụng thuộc chủ đề sức khỏe, nói về Tuổi thọ ở các quốc gia. Dữ liệu là tập hợp các yếu tố có thể ảnh hưởng đến tuổi thọ trung bình của các quốc gia trên thế giới.\n",
    "- Đây là bộ dữ liệu được WHO cung cấp được thu thập từ nhiều nguồn - GHO (Đài quan sát y tế toàn cầu) và UNESCO (Tổ chức Khoa học và Văn hóa Giáo dục Liên Hợp Quốc) - để xác định và theo dõi các yếu tố quan trọng để đạt được mục tiêu đó là gia tăng số lượng người được bảo vệ khỏi các trường hợp khẩn cấp về sức khỏe.\n",
    "\n"
   ]
  },
  {
   "cell_type": "markdown",
   "id": "1e464b46",
   "metadata": {},
   "source": [
    "## Người ta có cho phép dùng dữ liệu như này không?"
   ]
  },
  {
   "cell_type": "markdown",
   "id": "59827088",
   "metadata": {},
   "source": [
    "- Đây là bộ dữ liệu được tác giả công khai và cung cấp theo giấy phép **CC0: Public Domain (Giấy phép Creative Commons)**.\n",
    "- Với giấy phép trên tác giả từ chối toàn bộ quyền sở hữu đối với bộ dữ liệu này. Bắt cứ ai đều có thể sao chép, sửa đổi, phân phối, ngay cả cho mục đích thương mại mà không cần xin phép."
   ]
  },
  {
   "cell_type": "markdown",
   "id": "e1ec8f93",
   "metadata": {},
   "source": [
    "## Người ta thu thập dữ liệu như thế nào?"
   ]
  },
  {
   "cell_type": "markdown",
   "id": "0f9d4320",
   "metadata": {},
   "source": [
    "- Bộ dữ liệu được WHO cung cấp được thu thập từ nhiều nguồn - GHO (Đài quan sát y tế toàn cầu) và UNESCO (Tổ chức Khoa học và Văn hóa Giáo dục Liên Hợp Quốc).\n",
    "- Được thu thập từ năm 2000 - 2016 tại 183 quốc gia trên toàn thế giới, dữ liệu bao gồm các thành phần thông tin bị thiếu và cần xử lí."
   ]
  },
  {
   "cell_type": "markdown",
   "id": "c4ea71bb-b109-40a1-9298-19aea7e18bfa",
   "metadata": {},
   "source": [
    "# Khám phá dữ liệu"
   ]
  },
  {
   "cell_type": "markdown",
   "id": "f56737bd",
   "metadata": {},
   "source": [
    "## Đọc dữ liệu vào dataframe"
   ]
  },
  {
   "cell_type": "markdown",
   "id": "f0bb4e17",
   "metadata": {},
   "source": [
    "## Dữ liệu có bao nhiêu dòng và bao nhiêu cột?"
   ]
  },
  {
   "cell_type": "markdown",
   "id": "ae828323",
   "metadata": {},
   "source": [
    "## Mỗi dòng có ý nghĩa gì? Có vấn đề các dòng có ý nghĩa khác nhau không?"
   ]
  },
  {
   "cell_type": "markdown",
   "id": "10f735ab",
   "metadata": {},
   "source": [
    "## Dữ liệu có các dòng bị lặp không?"
   ]
  },
  {
   "cell_type": "markdown",
   "id": "bb70a97a",
   "metadata": {},
   "source": [
    "## Mỗi cột có ý nghĩa gì?"
   ]
  },
  {
   "cell_type": "markdown",
   "id": "8b756811",
   "metadata": {},
   "source": [
    "## Mỗi cột hiện đang có kiểu dữ liệu gì? Có cột nào có kiểu dữ liệu chưa phù hợp để có thể xử lý tiếp không?"
   ]
  },
  {
   "cell_type": "markdown",
   "id": "be09fcb0-a9b3-497f-a168-158d8c399b79",
   "metadata": {},
   "source": [
    "# Tiền xử lý dữ liệu"
   ]
  },
  {
   "cell_type": "markdown",
   "id": "ad343b52",
   "metadata": {},
   "source": []
  },
  {
   "cell_type": "markdown",
   "id": "92c023d8",
   "metadata": {},
   "source": [
    "# Khám phá dữ liệu (tiếp tục)"
   ]
  },
  {
   "cell_type": "markdown",
   "id": "76e3d3ee",
   "metadata": {},
   "source": [
    "## Với mỗi cột có kiểu dữ liệu dạng số (numerical), các giá trị được phân bố như thế nào?"
   ]
  },
  {
   "cell_type": "markdown",
   "id": "9e664448",
   "metadata": {},
   "source": [
    "## Với mỗi cột có kiểu dữ liệu dạng phân loại (categorical), các giá trị được phân bố như thế nào?"
   ]
  },
  {
   "cell_type": "markdown",
   "id": "1d2b31b0",
   "metadata": {},
   "source": [
    "# Đưa ra các câu hỏi cần trả lời"
   ]
  },
  {
   "cell_type": "markdown",
   "id": "3e8b0b59",
   "metadata": {},
   "source": [
    "## Câu hỏi là gì?"
   ]
  },
  {
   "cell_type": "markdown",
   "id": "dfa8a926",
   "metadata": {},
   "source": [
    "## Nếu trả lời được câu hỏi thì sẽ có lợi ích gì?"
   ]
  },
  {
   "cell_type": "markdown",
   "id": "5027739f",
   "metadata": {},
   "source": [
    "# Tiền xử lý + phân tích dữ liệu để trả lời câu hỏi"
   ]
  },
  {
   "cell_type": "markdown",
   "id": "83cfb0b4",
   "metadata": {},
   "source": [
    "## Câu 1"
   ]
  },
  {
   "cell_type": "markdown",
   "id": "01561ea9",
   "metadata": {},
   "source": [
    "### Tiền xử lý (nếu có)"
   ]
  },
  {
   "cell_type": "markdown",
   "id": "86c17121",
   "metadata": {},
   "source": [
    "### Phân tích"
   ]
  },
  {
   "cell_type": "markdown",
   "id": "82d6de07",
   "metadata": {},
   "source": [
    "## Câu 2"
   ]
  },
  {
   "cell_type": "markdown",
   "id": "0ba92255",
   "metadata": {},
   "source": [
    "### Tiền xử lý (nếu có)"
   ]
  },
  {
   "cell_type": "markdown",
   "id": "8523af1f",
   "metadata": {},
   "source": [
    "### Phân tích"
   ]
  },
  {
   "cell_type": "markdown",
   "id": "00758103",
   "metadata": {},
   "source": [
    "## Câu 3"
   ]
  },
  {
   "cell_type": "markdown",
   "id": "f68891e6",
   "metadata": {},
   "source": []
  },
  {
   "cell_type": "markdown",
   "id": "638dc9f6",
   "metadata": {},
   "source": [
    "# Nhìn lại quá trình làm đồ án"
   ]
  },
  {
   "cell_type": "markdown",
   "id": "8336bf6c",
   "metadata": {},
   "source": [
    "## Đã gặp những khó khăn gì?"
   ]
  },
  {
   "cell_type": "markdown",
   "id": "bf022b73",
   "metadata": {},
   "source": [
    "### Nhân"
   ]
  },
  {
   "cell_type": "markdown",
   "id": "1fc29630",
   "metadata": {},
   "source": [
    "### Trung"
   ]
  },
  {
   "cell_type": "markdown",
   "id": "95f5341e",
   "metadata": {},
   "source": [
    "## Có học được gì hữu ích không?"
   ]
  },
  {
   "cell_type": "markdown",
   "id": "c6a90598",
   "metadata": {},
   "source": [
    "### Nhân "
   ]
  },
  {
   "cell_type": "markdown",
   "id": "99def3c9",
   "metadata": {},
   "source": [
    "### Trung"
   ]
  },
  {
   "cell_type": "markdown",
   "id": "9a4aca7a",
   "metadata": {},
   "source": [
    "## Nếu có thêm thời gian thì sẽ làm gì?"
   ]
  },
  {
   "cell_type": "markdown",
   "id": "f17201b8",
   "metadata": {},
   "source": [
    "# Tài liệu tham khảo"
   ]
  }
 ],
 "metadata": {
  "kernelspec": {
   "display_name": "Python 3 (ipykernel)",
   "language": "python",
   "name": "python3"
  },
  "language_info": {
   "codemirror_mode": {
    "name": "ipython",
    "version": 3
   },
   "file_extension": ".py",
   "mimetype": "text/x-python",
   "name": "python",
   "nbconvert_exporter": "python",
   "pygments_lexer": "ipython3",
   "version": "3.8.8"
  },
  "toc-autonumbering": false,
  "toc-showcode": true,
  "toc-showmarkdowntxt": false,
  "toc-showtags": false
 },
 "nbformat": 4,
 "nbformat_minor": 5
}
