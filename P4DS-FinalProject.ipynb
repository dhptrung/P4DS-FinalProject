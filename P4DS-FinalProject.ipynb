{
 "cells": [
  {
   "cell_type": "markdown",
   "id": "ee1d28f2-ced2-4e3f-b1b3-8089792b91f9",
   "metadata": {},
   "source": [
    "<center style=\"color:red;font-size:35px;padding:15px\"><b> ĐỒ ÁN CUỐI KỲ </b></center>\n",
    "<center style=\"color:blue;font-size:30px;padding:15px\"><b> LẬP TRÌNH CHO KHOA HỌC DỮ LIỆU</b></center>\n",
    "<center style=\"color:black;font-size:20px;padding:5px\"><b><a href=\"https://github.com/dhptrung/P4DS-FinalProject\">Thùng chứa GitHub</a></b></center>"
   ]
  },
  {
   "cell_type": "markdown",
   "id": "57412990-31df-471a-bcce-9e5f8cede167",
   "metadata": {},
   "source": [
    "---"
   ]
  },
  {
   "cell_type": "markdown",
   "id": "b93f45d5-46dc-4895-bcd5-886d0faa0e87",
   "metadata": {},
   "source": [
    "| MSSV | Họ và tên | Tài khoản GitHub |\n",
    "|:----:|:---:|:---:|\n",
    "|18120066| Bùi Đoàn Hữu Nhân | https://github.com/bdhnhan |\n",
    "|18120097| Đinh Hữu Phúc Trung| https://github.com/dhptrung |"
   ]
  },
  {
   "cell_type": "markdown",
   "id": "2e868630-a282-47df-a86c-40a6bc22a15a",
   "metadata": {},
   "source": [
    "# Import các thư viện cần thiết"
   ]
  },
  {
   "cell_type": "code",
   "execution_count": 1,
   "id": "86f66f48",
   "metadata": {},
   "outputs": [],
   "source": [
    "import numpy as np\n",
    "import pandas as pd\n",
    "import matplotlib.pyplot as plt"
   ]
  },
  {
   "cell_type": "markdown",
   "id": "c671618b-e9d1-4874-ad22-8451a383a0f4",
   "metadata": {},
   "source": [
    "# Thu thập dữ liệu"
   ]
  },
  {
   "cell_type": "markdown",
   "id": "39a9d1e7",
   "metadata": {},
   "source": [
    "## Dữ liệu là về chủ đề gì và lấy từ nguồn nào?"
   ]
  },
  {
   "cell_type": "markdown",
   "id": "e6064da3-8d5a-4c20-a8da-781a50eaef6a",
   "metadata": {},
   "source": [
    "- Chủ đề: Về tuổi thọ của các quốc gia, là tập hợp các yếu tố ảnh hưởng đến tuổi thọ trung bình của các quốc gia trên thế giới.\n",
    "- Nguồn: Tập dữ liệu được lấy từ Kaggle - [WHO national life expectancy](https://www.kaggle.com/mmattson/who-national-life-expectancy)"
   ]
  },
  {
   "cell_type": "markdown",
   "id": "1e464b46",
   "metadata": {},
   "source": [
    "## Người ta có cho phép dùng dữ liệu như này không?"
   ]
  },
  {
   "cell_type": "markdown",
   "id": "50bb4bfd",
   "metadata": {},
   "source": [
    "- Đây là bộ dữ liệu được tác giả công khai và cung cấp theo giấy phép **CC0: Public Domain (Giấy phép Creative Commons)**.\n",
    "- Với giấy phép trên tác giả từ chối toàn bộ quyền sở hữu đối với bộ dữ liệu này. Bắt cứ ai đều có thể sao chép, sửa đổi, phân phối, ngay cả cho mục đích thương mại mà không cần xin phép."
   ]
  },
  {
   "cell_type": "markdown",
   "id": "e1ec8f93",
   "metadata": {},
   "source": [
    "## Người ta thu thập dữ liệu như thế nào?"
   ]
  },
  {
   "cell_type": "markdown",
   "id": "628ad962-f7d4-466c-b722-b5fa49729894",
   "metadata": {},
   "source": [
    "- Bộ dữ liệu này được WHO cung cấp và được thu thập từ nhiều nguồn, chủ yếu là sử dụng thông tin của GHO (Đài quan sát sức khỏe toàn cầu) và UNESCO (Tổ chức Giáo dục, Khoa học và Văn hóa Liên Hợp Quốc).\n",
    "- Tập dữ liệu được sử dụng trong đồ án này là một phần nhỏ các yếu tố ảnh hưởng đến tuổi thọ của 183 quốc gia và trong khoảng thời gian từ năm 2000 đến năm 2016. "
   ]
  },
  {
   "cell_type": "markdown",
   "id": "c4ea71bb-b109-40a1-9298-19aea7e18bfa",
   "metadata": {},
   "source": [
    "# Khám phá dữ liệu"
   ]
  },
  {
   "cell_type": "markdown",
   "id": "f56737bd",
   "metadata": {},
   "source": [
    "## Đọc dữ liệu vào dataframe"
   ]
  },
  {
   "cell_type": "code",
   "execution_count": 2,
   "id": "cb269efc-484f-43e8-a7ad-99ee4f5cef0c",
   "metadata": {},
   "outputs": [
    {
     "data": {
      "text/html": [
       "<div>\n",
       "<style scoped>\n",
       "    .dataframe tbody tr th:only-of-type {\n",
       "        vertical-align: middle;\n",
       "    }\n",
       "\n",
       "    .dataframe tbody tr th {\n",
       "        vertical-align: top;\n",
       "    }\n",
       "\n",
       "    .dataframe thead th {\n",
       "        text-align: right;\n",
       "    }\n",
       "</style>\n",
       "<table border=\"1\" class=\"dataframe\">\n",
       "  <thead>\n",
       "    <tr style=\"text-align: right;\">\n",
       "      <th></th>\n",
       "      <th>country</th>\n",
       "      <th>country_code</th>\n",
       "      <th>region</th>\n",
       "      <th>year</th>\n",
       "      <th>life_expect</th>\n",
       "      <th>life_exp60</th>\n",
       "      <th>adult_mortality</th>\n",
       "      <th>infant_mort</th>\n",
       "      <th>age1-4mort</th>\n",
       "      <th>alcohol</th>\n",
       "      <th>bmi</th>\n",
       "      <th>age5-19thinness</th>\n",
       "      <th>age5-19obesity</th>\n",
       "      <th>hepatitis</th>\n",
       "      <th>measles</th>\n",
       "      <th>polio</th>\n",
       "      <th>diphtheria</th>\n",
       "      <th>basic_water</th>\n",
       "      <th>doctors</th>\n",
       "      <th>hospitals</th>\n",
       "      <th>gni_capita</th>\n",
       "      <th>gghe-d</th>\n",
       "      <th>che_gdp</th>\n",
       "      <th>une_pop</th>\n",
       "      <th>une_infant</th>\n",
       "      <th>une_life</th>\n",
       "      <th>une_hiv</th>\n",
       "      <th>une_gni</th>\n",
       "      <th>une_poverty</th>\n",
       "      <th>une_edu_spend</th>\n",
       "      <th>une_literacy</th>\n",
       "      <th>une_school</th>\n",
       "    </tr>\n",
       "  </thead>\n",
       "  <tbody>\n",
       "    <tr>\n",
       "      <th>0</th>\n",
       "      <td>Angola</td>\n",
       "      <td>AGO</td>\n",
       "      <td>Africa</td>\n",
       "      <td>2000</td>\n",
       "      <td>47.33730</td>\n",
       "      <td>14.73400</td>\n",
       "      <td>383.5583</td>\n",
       "      <td>0.137985</td>\n",
       "      <td>0.025695</td>\n",
       "      <td>1.47439</td>\n",
       "      <td>21.7</td>\n",
       "      <td>11.0</td>\n",
       "      <td>0.5</td>\n",
       "      <td>NaN</td>\n",
       "      <td>32.0</td>\n",
       "      <td>21.0</td>\n",
       "      <td>31.0</td>\n",
       "      <td>41.14431</td>\n",
       "      <td>NaN</td>\n",
       "      <td>NaN</td>\n",
       "      <td>2190.0</td>\n",
       "      <td>1.11099</td>\n",
       "      <td>1.90860</td>\n",
       "      <td>16395.473</td>\n",
       "      <td>122.2</td>\n",
       "      <td>46.522</td>\n",
       "      <td>1.0</td>\n",
       "      <td>2530.0</td>\n",
       "      <td>32.3</td>\n",
       "      <td>2.60753</td>\n",
       "      <td>NaN</td>\n",
       "      <td>NaN</td>\n",
       "    </tr>\n",
       "    <tr>\n",
       "      <th>1</th>\n",
       "      <td>Angola</td>\n",
       "      <td>AGO</td>\n",
       "      <td>Africa</td>\n",
       "      <td>2001</td>\n",
       "      <td>48.19789</td>\n",
       "      <td>14.95963</td>\n",
       "      <td>372.3876</td>\n",
       "      <td>0.133675</td>\n",
       "      <td>0.024500</td>\n",
       "      <td>1.94025</td>\n",
       "      <td>21.8</td>\n",
       "      <td>10.9</td>\n",
       "      <td>0.5</td>\n",
       "      <td>NaN</td>\n",
       "      <td>60.0</td>\n",
       "      <td>28.0</td>\n",
       "      <td>42.0</td>\n",
       "      <td>42.25467</td>\n",
       "      <td>NaN</td>\n",
       "      <td>NaN</td>\n",
       "      <td>2290.0</td>\n",
       "      <td>2.04631</td>\n",
       "      <td>4.48352</td>\n",
       "      <td>16945.753</td>\n",
       "      <td>118.9</td>\n",
       "      <td>47.059</td>\n",
       "      <td>1.1</td>\n",
       "      <td>2630.0</td>\n",
       "      <td>NaN</td>\n",
       "      <td>NaN</td>\n",
       "      <td>67.40542</td>\n",
       "      <td>NaN</td>\n",
       "    </tr>\n",
       "    <tr>\n",
       "      <th>2</th>\n",
       "      <td>Angola</td>\n",
       "      <td>AGO</td>\n",
       "      <td>Africa</td>\n",
       "      <td>2002</td>\n",
       "      <td>49.42569</td>\n",
       "      <td>15.20010</td>\n",
       "      <td>354.5147</td>\n",
       "      <td>0.128320</td>\n",
       "      <td>0.023260</td>\n",
       "      <td>2.07512</td>\n",
       "      <td>21.9</td>\n",
       "      <td>10.7</td>\n",
       "      <td>0.6</td>\n",
       "      <td>NaN</td>\n",
       "      <td>59.0</td>\n",
       "      <td>22.0</td>\n",
       "      <td>47.0</td>\n",
       "      <td>43.37680</td>\n",
       "      <td>NaN</td>\n",
       "      <td>NaN</td>\n",
       "      <td>2690.0</td>\n",
       "      <td>1.30863</td>\n",
       "      <td>3.32946</td>\n",
       "      <td>17519.417</td>\n",
       "      <td>115.1</td>\n",
       "      <td>47.702</td>\n",
       "      <td>1.2</td>\n",
       "      <td>3180.0</td>\n",
       "      <td>NaN</td>\n",
       "      <td>NaN</td>\n",
       "      <td>NaN</td>\n",
       "      <td>NaN</td>\n",
       "    </tr>\n",
       "    <tr>\n",
       "      <th>3</th>\n",
       "      <td>Angola</td>\n",
       "      <td>AGO</td>\n",
       "      <td>Africa</td>\n",
       "      <td>2003</td>\n",
       "      <td>50.50266</td>\n",
       "      <td>15.39144</td>\n",
       "      <td>343.2169</td>\n",
       "      <td>0.122040</td>\n",
       "      <td>0.021925</td>\n",
       "      <td>2.20275</td>\n",
       "      <td>22.0</td>\n",
       "      <td>10.5</td>\n",
       "      <td>0.7</td>\n",
       "      <td>NaN</td>\n",
       "      <td>44.0</td>\n",
       "      <td>21.0</td>\n",
       "      <td>46.0</td>\n",
       "      <td>44.36387</td>\n",
       "      <td>NaN</td>\n",
       "      <td>NaN</td>\n",
       "      <td>2820.0</td>\n",
       "      <td>1.46560</td>\n",
       "      <td>3.54797</td>\n",
       "      <td>18121.479</td>\n",
       "      <td>110.8</td>\n",
       "      <td>48.440</td>\n",
       "      <td>1.3</td>\n",
       "      <td>3260.0</td>\n",
       "      <td>NaN</td>\n",
       "      <td>NaN</td>\n",
       "      <td>NaN</td>\n",
       "      <td>NaN</td>\n",
       "    </tr>\n",
       "    <tr>\n",
       "      <th>4</th>\n",
       "      <td>Angola</td>\n",
       "      <td>AGO</td>\n",
       "      <td>Africa</td>\n",
       "      <td>2004</td>\n",
       "      <td>51.52863</td>\n",
       "      <td>15.56860</td>\n",
       "      <td>333.8711</td>\n",
       "      <td>0.115700</td>\n",
       "      <td>0.020545</td>\n",
       "      <td>2.41274</td>\n",
       "      <td>22.2</td>\n",
       "      <td>10.3</td>\n",
       "      <td>0.8</td>\n",
       "      <td>NaN</td>\n",
       "      <td>43.0</td>\n",
       "      <td>18.0</td>\n",
       "      <td>47.0</td>\n",
       "      <td>45.35134</td>\n",
       "      <td>0.621</td>\n",
       "      <td>NaN</td>\n",
       "      <td>3080.0</td>\n",
       "      <td>1.68663</td>\n",
       "      <td>3.96720</td>\n",
       "      <td>18758.145</td>\n",
       "      <td>106.2</td>\n",
       "      <td>49.263</td>\n",
       "      <td>1.3</td>\n",
       "      <td>3560.0</td>\n",
       "      <td>NaN</td>\n",
       "      <td>NaN</td>\n",
       "      <td>NaN</td>\n",
       "      <td>NaN</td>\n",
       "    </tr>\n",
       "  </tbody>\n",
       "</table>\n",
       "</div>"
      ],
      "text/plain": [
       "  country country_code  region  year  life_expect  life_exp60  \\\n",
       "0  Angola          AGO  Africa  2000     47.33730    14.73400   \n",
       "1  Angola          AGO  Africa  2001     48.19789    14.95963   \n",
       "2  Angola          AGO  Africa  2002     49.42569    15.20010   \n",
       "3  Angola          AGO  Africa  2003     50.50266    15.39144   \n",
       "4  Angola          AGO  Africa  2004     51.52863    15.56860   \n",
       "\n",
       "   adult_mortality  infant_mort  age1-4mort  alcohol   bmi  age5-19thinness  \\\n",
       "0         383.5583     0.137985    0.025695  1.47439  21.7             11.0   \n",
       "1         372.3876     0.133675    0.024500  1.94025  21.8             10.9   \n",
       "2         354.5147     0.128320    0.023260  2.07512  21.9             10.7   \n",
       "3         343.2169     0.122040    0.021925  2.20275  22.0             10.5   \n",
       "4         333.8711     0.115700    0.020545  2.41274  22.2             10.3   \n",
       "\n",
       "   age5-19obesity  hepatitis  measles  polio  diphtheria  basic_water  \\\n",
       "0             0.5        NaN     32.0   21.0        31.0     41.14431   \n",
       "1             0.5        NaN     60.0   28.0        42.0     42.25467   \n",
       "2             0.6        NaN     59.0   22.0        47.0     43.37680   \n",
       "3             0.7        NaN     44.0   21.0        46.0     44.36387   \n",
       "4             0.8        NaN     43.0   18.0        47.0     45.35134   \n",
       "\n",
       "   doctors  hospitals  gni_capita   gghe-d  che_gdp    une_pop  une_infant  \\\n",
       "0      NaN        NaN      2190.0  1.11099  1.90860  16395.473       122.2   \n",
       "1      NaN        NaN      2290.0  2.04631  4.48352  16945.753       118.9   \n",
       "2      NaN        NaN      2690.0  1.30863  3.32946  17519.417       115.1   \n",
       "3      NaN        NaN      2820.0  1.46560  3.54797  18121.479       110.8   \n",
       "4    0.621        NaN      3080.0  1.68663  3.96720  18758.145       106.2   \n",
       "\n",
       "   une_life  une_hiv  une_gni  une_poverty  une_edu_spend  une_literacy  \\\n",
       "0    46.522      1.0   2530.0         32.3        2.60753           NaN   \n",
       "1    47.059      1.1   2630.0          NaN            NaN      67.40542   \n",
       "2    47.702      1.2   3180.0          NaN            NaN           NaN   \n",
       "3    48.440      1.3   3260.0          NaN            NaN           NaN   \n",
       "4    49.263      1.3   3560.0          NaN            NaN           NaN   \n",
       "\n",
       "   une_school  \n",
       "0         NaN  \n",
       "1         NaN  \n",
       "2         NaN  \n",
       "3         NaN  \n",
       "4         NaN  "
      ]
     },
     "execution_count": 2,
     "metadata": {},
     "output_type": "execute_result"
    }
   ],
   "source": [
    "pd.set_option('display.max_columns', 32) # Để nhìn rõ hơn\n",
    "df = pd.read_csv('who_life_exp.csv')\n",
    "df.head()"
   ]
  },
  {
   "cell_type": "markdown",
   "id": "f0bb4e17",
   "metadata": {},
   "source": [
    "## Dữ liệu có bao nhiêu dòng và bao nhiêu cột?"
   ]
  },
  {
   "cell_type": "code",
   "execution_count": 3,
   "id": "ae8f303d-7f82-4239-88cf-96259df56216",
   "metadata": {},
   "outputs": [
    {
     "data": {
      "text/plain": [
       "(3111, 32)"
      ]
     },
     "execution_count": 3,
     "metadata": {},
     "output_type": "execute_result"
    }
   ],
   "source": [
    "df.shape"
   ]
  },
  {
   "cell_type": "markdown",
   "id": "2b6b3c3e-7c3f-43c5-bca5-85fb493d8423",
   "metadata": {},
   "source": [
    "Dữ liệu có **3111 dòng** và **32 cột**."
   ]
  },
  {
   "cell_type": "markdown",
   "id": "ae828323",
   "metadata": {},
   "source": [
    "## Mỗi dòng có ý nghĩa gì? Có vấn đề các dòng có ý nghĩa khác nhau không?"
   ]
  },
  {
   "cell_type": "markdown",
   "id": "e36013d8-2848-4989-b31b-fec03879d8c9",
   "metadata": {},
   "source": [
    "Theo quan sát sơ bộ về dữ liệu thì mỗi dòng cho biết thông tin về tuổi thọ trung bình và các yếu tố ảnh hưởng đến tuổi thọ trung bình của một quốc gia trong một năm. Không có vấn đề các dòng có ý nghĩa khác nhau."
   ]
  },
  {
   "cell_type": "markdown",
   "id": "10f735ab",
   "metadata": {},
   "source": [
    "## Dữ liệu có các dòng bị lặp không?"
   ]
  },
  {
   "cell_type": "code",
   "execution_count": 4,
   "id": "baf13845-f909-424d-a8ec-5b1780accd99",
   "metadata": {},
   "outputs": [
    {
     "data": {
      "text/plain": [
       "False"
      ]
     },
     "execution_count": 4,
     "metadata": {},
     "output_type": "execute_result"
    }
   ],
   "source": [
    "have_duplicated_rows = df.duplicated().any()\n",
    "have_duplicated_rows"
   ]
  },
  {
   "cell_type": "markdown",
   "id": "35cfa4ae-28f2-4b4d-8778-c8690c8576ee",
   "metadata": {},
   "source": [
    "Dữ liệu không có dòng nào bị lặp."
   ]
  },
  {
   "cell_type": "markdown",
   "id": "bb70a97a",
   "metadata": {},
   "source": [
    "## Mỗi cột có ý nghĩa gì?"
   ]
  },
  {
   "cell_type": "markdown",
   "id": "c37c9620-4d06-4941-bd04-32365c791941",
   "metadata": {},
   "source": [
    "| Tên cột | Ý nghĩa của cột | \n",
    "|:---------|:-----------------|\n",
    "| ***country*** | Tên quốc gia |\n",
    "| ***country_code*** | Mã định danh quốc gia gồm 3 chữ cái |\n",
    "| ***region*** | Khu vực của quốc gia |\n",
    "| ***year*** | Năm |\n",
    "| ***life_expect*** | Tuổi thọ trung bình trong năm |\n",
    "| ***life_exp60*** | Tỉ lệ dân số có tuổi thọ 60+ |\n",
    "| ***adult_mortality*** | Tỷ lệ tử vong ở người trưởng thành của cả 2 giới (xác suất tử vong từ 15 đến 60 tuổi trên 1000 dân số)|\n",
    "| ***infant_mort*** | Tỷ lệ tử vong đến 1 tuổi |\n",
    "| ***age1-4mort*** | Tỷ lệ tử vong trong độ tuổi từ 1 đến 4 |\n",
    "| ***alcohol*** | Rượu, mức tiêu thụ bình quân đầu người (15+) được ghi nhận (tính bằng lít rượu nguyên chất) |\n",
    "| ***bmi*** | BMI trung bình (kg/m^2) (18+) (ước tính theo tuổi được chuẩn hóa) |\n",
    "| ***age5-19thinness*** | Tỷ lệ gầy ở trẻ em và thanh thiếu niên, BMI < (trung bình - 2s.d.) (ước tính thô) (%) |\n",
    "| ***age5-19obesity*** | Tỷ lệ béo phì ở trẻ em và thanh thiếu niên, BMI > (trung bình + 2s.d.) (ước tính thô) (%) |\n",
    "| ***hepatitis*** | Tỷ lệ tiêm chủng viêm gan B (HepB) ở trẻ 1 tuổi (%) |\n",
    "| ***measles*** | Tỷ lệ tiêm ngừa vắc xin sởi mũi 1 (MCV1) ở trẻ 1 tuổi (%) |\n",
    "| ***polio*** | Tỷ lệ tiêm chủng bại liệt (Pol3) ở trẻ 1 tuổi (%) |\n",
    "| ***diphtheria*** | Tỷ lệ tiêm chủng giải độc tố uốn ván và ho gà (DTP3) cho trẻ 1 tuổi (%) |\n",
    "| ***basic_water*** | Tỷ lệ dân số sử dụng các loại nước uống cơ bản |\n",
    "| ***doctors*** | Số bác sĩ y khoa (trên 10.000 dân) |\n",
    "| ***hospitals*** | Mật độ bệnh viện trên 100.000 dân |\n",
    "| ***gni_capita*** | Tổng thu nhập quốc dân trên đầu người |\n",
    "| ***gghe-d*** | Chi tiêu chung cho y tế của chính phủ trong nước (GGHE-D) tính theo phần trăm tổng sản phẩm quốc nội (GDP) |\n",
    "| ***che_gdp*** | Chi tiêu cho y tế hiện tại (CHE) tính theo phần trăm tổng sản phẩm quốc nội (GDP) (%) |\n",
    "| ***une_pop*** | Dân số (hàng nghìn) |\n",
    "| ***une_infant*** | Số ca tử vong trung bình ở trẻ sơ sinh (trên 1.000 trẻ đẻ sống) |\n",
    "| ***une_life*** | Tuổi thọ trung bình theo UNESCO (năm) |\n",
    "| ***une_hiv*** | Tỷ lệ nhiễm HIV (% dân số từ 15-49 tuổi) |\n",
    "| ***une_gni*** | GNI bình quân đầu người theo UNESCO (đô la quốc tế hiện tại) |\n",
    "| ***une_poverty*** | Tỷ lệ nghèo đói ở mức 1,90 đô la một ngày (PPP) (% dân số) |\n",
    "| ***une_edu_spend*** | Chi tiêu của chính phủ cho giáo dục tính theo tỷ lệ phần trăm của GDP (%) |\n",
    "| ***une_literacy*** | Tỷ lệ người lớn biết chữ, dân số trên 15 tuổi, cả hai giới (%) |\n",
    "| ***une_school*** | Số năm đi học trung bình (ISCED 1 trở lên), dân số từ 25 tuổi trở lên, cả hai giới |"
   ]
  },
  {
   "cell_type": "markdown",
   "id": "8b756811",
   "metadata": {},
   "source": [
    "## Mỗi cột hiện đang có kiểu dữ liệu gì? Có cột nào có kiểu dữ liệu chưa phù hợp để có thể xử lý tiếp không?"
   ]
  },
  {
   "cell_type": "code",
   "execution_count": 5,
   "id": "67e542cf-cc52-4f40-b5f5-65a6bfba570b",
   "metadata": {},
   "outputs": [
    {
     "data": {
      "text/plain": [
       "country             object\n",
       "country_code        object\n",
       "region              object\n",
       "year                 int64\n",
       "life_expect        float64\n",
       "life_exp60         float64\n",
       "adult_mortality    float64\n",
       "infant_mort        float64\n",
       "age1-4mort         float64\n",
       "alcohol            float64\n",
       "bmi                float64\n",
       "age5-19thinness    float64\n",
       "age5-19obesity     float64\n",
       "hepatitis          float64\n",
       "measles            float64\n",
       "polio              float64\n",
       "diphtheria         float64\n",
       "basic_water        float64\n",
       "doctors            float64\n",
       "hospitals          float64\n",
       "gni_capita         float64\n",
       "gghe-d             float64\n",
       "che_gdp            float64\n",
       "une_pop            float64\n",
       "une_infant         float64\n",
       "une_life           float64\n",
       "une_hiv            float64\n",
       "une_gni            float64\n",
       "une_poverty        float64\n",
       "une_edu_spend      float64\n",
       "une_literacy       float64\n",
       "une_school         float64\n",
       "dtype: object"
      ]
     },
     "execution_count": 5,
     "metadata": {},
     "output_type": "execute_result"
    }
   ],
   "source": [
    "df.dtypes"
   ]
  },
  {
   "cell_type": "markdown",
   "id": "f68722ac-b82a-4796-b44f-8994d1b21b27",
   "metadata": {},
   "source": [
    "Tất cả các cột đều đã có kiểu dữ liệu phù hợp."
   ]
  },
  {
   "cell_type": "markdown",
   "id": "be09fcb0-a9b3-497f-a168-158d8c399b79",
   "metadata": {},
   "source": [
    "# Tiền xử lý dữ liệu"
   ]
  },
  {
   "cell_type": "markdown",
   "id": "ad343b52",
   "metadata": {},
   "source": [
    "Trong dữ liệu có các cột có ý nghĩa tương tự nhau nhưng vì thông tin được lấy từ 2 nguồn khác nhau nên giá trị có lệch nhau đôi chút. Ta sẽ tiến hành loại bỏ đi 1 cột trong các cặp cột có ý nghĩa tương tự nhau, ưu tiên loại bỏ các cột có tỉ lệ giá trị thiếu cao hơn. \n",
    "\n",
    "- Cặp \"life_expect\" và \"une_life\" (tuổi thọ trung bình)\n",
    "- Cặp \"gni_capita\" và \"une_gni\" (GNI)\n",
    "- Cặp \"infant_mort\" và \"une_infant\" (tỉ lệ tử vong trẻ sơ sinh)\n",
    "\n",
    "Đồng thời, ta sẽ xóa thêm cột \"country_code\" vì đây là mã định danh cho quốc gia nên sẽ tương tự với cột tên quốc gia \"country\"."
   ]
  },
  {
   "cell_type": "code",
   "execution_count": 6,
   "id": "57c56eb2-dde2-4250-b049-edf1ceea270c",
   "metadata": {},
   "outputs": [
    {
     "data": {
      "text/html": [
       "<div>\n",
       "<style scoped>\n",
       "    .dataframe tbody tr th:only-of-type {\n",
       "        vertical-align: middle;\n",
       "    }\n",
       "\n",
       "    .dataframe tbody tr th {\n",
       "        vertical-align: top;\n",
       "    }\n",
       "\n",
       "    .dataframe thead th {\n",
       "        text-align: right;\n",
       "    }\n",
       "</style>\n",
       "<table border=\"1\" class=\"dataframe\">\n",
       "  <thead>\n",
       "    <tr style=\"text-align: right;\">\n",
       "      <th></th>\n",
       "      <th>life_expect</th>\n",
       "      <th>une_life</th>\n",
       "      <th>gni_capita</th>\n",
       "      <th>une_gni</th>\n",
       "      <th>infant_mort</th>\n",
       "      <th>une_infant</th>\n",
       "    </tr>\n",
       "  </thead>\n",
       "  <tbody>\n",
       "    <tr>\n",
       "      <th>missing_ratio</th>\n",
       "      <td>0.0</td>\n",
       "      <td>0.0</td>\n",
       "      <td>21.922212</td>\n",
       "      <td>3.760849</td>\n",
       "      <td>0.0</td>\n",
       "      <td>0.0</td>\n",
       "    </tr>\n",
       "  </tbody>\n",
       "</table>\n",
       "</div>"
      ],
      "text/plain": [
       "               life_expect  une_life  gni_capita   une_gni  infant_mort  \\\n",
       "missing_ratio          0.0       0.0   21.922212  3.760849          0.0   \n",
       "\n",
       "               une_infant  \n",
       "missing_ratio         0.0  "
      ]
     },
     "execution_count": 6,
     "metadata": {},
     "output_type": "execute_result"
    }
   ],
   "source": [
    "def missing_ratio(s):\n",
    "    return s.isna().mean() * 100\n",
    "cols = ['life_expect', 'une_life', 'gni_capita', 'une_gni', 'infant_mort', 'une_infant']\n",
    "df[cols].agg([missing_ratio])"
   ]
  },
  {
   "cell_type": "markdown",
   "id": "9866e4e9-dfcd-4f52-8b52-e833726e7658",
   "metadata": {},
   "source": [
    "Do chỉ có cặp \"gni_capita\" và \"une_gni\" có tỉ lệ thiếu khác nhau nên ta sẽ chọn xóa cột \"gni_capita\" vì có tỉ lệ thiếu cao hơn. Hai cặp còn lại ta xóa cột chứa thông tin từ nguồn UNESCO (vì đa số các cột dữ liệu lấy từ nguồn GHO nên ta giữ lại các cột của GHO để dễ đồng nhất)."
   ]
  },
  {
   "cell_type": "code",
   "execution_count": 7,
   "id": "647428c0-a625-45a1-8908-66a72f132e0f",
   "metadata": {},
   "outputs": [],
   "source": [
    "df.drop(columns=['une_life', \n",
    "                 'gni_capita', \n",
    "                 'une_infant', \n",
    "                 'country_code'], inplace=True)"
   ]
  },
  {
   "cell_type": "markdown",
   "id": "92c023d8",
   "metadata": {},
   "source": [
    "# Khám phá dữ liệu (tiếp tục)"
   ]
  },
  {
   "cell_type": "markdown",
   "id": "76e3d3ee",
   "metadata": {},
   "source": [
    "## Với mỗi cột có kiểu dữ liệu dạng số (numerical), các giá trị được phân bố như thế nào?"
   ]
  },
  {
   "cell_type": "markdown",
   "id": "411cd3cc-6517-48eb-9f43-4a367a0c8659",
   "metadata": {},
   "source": [
    "Với mỗi cột numeric ta sẽ tính tỉ lệ % giá trị thiếu (từ 0 đến 100), min, max. Sau đó lưu kết quả vào dataframe `nume_col_profiles_df`."
   ]
  },
  {
   "cell_type": "code",
   "execution_count": 8,
   "id": "52b06e1a-491f-4ee9-8892-582dc6eb2476",
   "metadata": {},
   "outputs": [
    {
     "data": {
      "text/html": [
       "<div>\n",
       "<style scoped>\n",
       "    .dataframe tbody tr th:only-of-type {\n",
       "        vertical-align: middle;\n",
       "    }\n",
       "\n",
       "    .dataframe tbody tr th {\n",
       "        vertical-align: top;\n",
       "    }\n",
       "\n",
       "    .dataframe thead th {\n",
       "        text-align: right;\n",
       "    }\n",
       "</style>\n",
       "<table border=\"1\" class=\"dataframe\">\n",
       "  <thead>\n",
       "    <tr style=\"text-align: right;\">\n",
       "      <th></th>\n",
       "      <th>life_exp60</th>\n",
       "      <th>diphtheria</th>\n",
       "      <th>hospitals</th>\n",
       "      <th>adult_mortality</th>\n",
       "      <th>age5-19obesity</th>\n",
       "      <th>year</th>\n",
       "      <th>gghe-d</th>\n",
       "      <th>une_school</th>\n",
       "      <th>une_poverty</th>\n",
       "      <th>une_literacy</th>\n",
       "      <th>une_hiv</th>\n",
       "      <th>une_pop</th>\n",
       "      <th>age1-4mort</th>\n",
       "      <th>che_gdp</th>\n",
       "      <th>measles</th>\n",
       "      <th>une_gni</th>\n",
       "      <th>bmi</th>\n",
       "      <th>basic_water</th>\n",
       "      <th>infant_mort</th>\n",
       "      <th>doctors</th>\n",
       "      <th>une_edu_spend</th>\n",
       "      <th>life_expect</th>\n",
       "      <th>hepatitis</th>\n",
       "      <th>age5-19thinness</th>\n",
       "      <th>polio</th>\n",
       "      <th>alcohol</th>\n",
       "    </tr>\n",
       "  </thead>\n",
       "  <tbody>\n",
       "    <tr>\n",
       "      <th>missing_ratio</th>\n",
       "      <td>0.00000</td>\n",
       "      <td>0.610736</td>\n",
       "      <td>95.821279</td>\n",
       "      <td>0.00000</td>\n",
       "      <td>1.092896</td>\n",
       "      <td>0.0</td>\n",
       "      <td>3.214401</td>\n",
       "      <td>74.124076</td>\n",
       "      <td>70.652523</td>\n",
       "      <td>81.645773</td>\n",
       "      <td>23.818708</td>\n",
       "      <td>1.189328e+00</td>\n",
       "      <td>0.000000</td>\n",
       "      <td>3.760849</td>\n",
       "      <td>0.610736</td>\n",
       "      <td>3.760849</td>\n",
       "      <td>1.092896</td>\n",
       "      <td>1.028608</td>\n",
       "      <td>0.000000</td>\n",
       "      <td>42.783671</td>\n",
       "      <td>41.337191</td>\n",
       "      <td>0.00000</td>\n",
       "      <td>18.289939</td>\n",
       "      <td>1.092896</td>\n",
       "      <td>0.610736</td>\n",
       "      <td>1.60720</td>\n",
       "    </tr>\n",
       "    <tr>\n",
       "      <th>min</th>\n",
       "      <td>10.72800</td>\n",
       "      <td>19.000000</td>\n",
       "      <td>0.000000</td>\n",
       "      <td>49.20185</td>\n",
       "      <td>0.100000</td>\n",
       "      <td>2000.0</td>\n",
       "      <td>0.062360</td>\n",
       "      <td>0.559340</td>\n",
       "      <td>0.100000</td>\n",
       "      <td>14.376040</td>\n",
       "      <td>0.100000</td>\n",
       "      <td>7.601600e+01</td>\n",
       "      <td>0.000065</td>\n",
       "      <td>1.025160</td>\n",
       "      <td>16.000000</td>\n",
       "      <td>420.000000</td>\n",
       "      <td>19.800000</td>\n",
       "      <td>18.695210</td>\n",
       "      <td>0.001470</td>\n",
       "      <td>0.128000</td>\n",
       "      <td>0.787440</td>\n",
       "      <td>36.22736</td>\n",
       "      <td>2.000000</td>\n",
       "      <td>0.100000</td>\n",
       "      <td>8.000000</td>\n",
       "      <td>0.00000</td>\n",
       "    </tr>\n",
       "    <tr>\n",
       "      <th>max</th>\n",
       "      <td>26.39402</td>\n",
       "      <td>99.000000</td>\n",
       "      <td>56.446950</td>\n",
       "      <td>696.87420</td>\n",
       "      <td>26.700000</td>\n",
       "      <td>2016.0</td>\n",
       "      <td>12.062730</td>\n",
       "      <td>14.378800</td>\n",
       "      <td>94.100000</td>\n",
       "      <td>99.998190</td>\n",
       "      <td>28.200000</td>\n",
       "      <td>1.414049e+06</td>\n",
       "      <td>0.039095</td>\n",
       "      <td>20.413410</td>\n",
       "      <td>99.000000</td>\n",
       "      <td>122670.000000</td>\n",
       "      <td>32.200000</td>\n",
       "      <td>100.000010</td>\n",
       "      <td>0.164515</td>\n",
       "      <td>79.541000</td>\n",
       "      <td>14.059080</td>\n",
       "      <td>84.16616</td>\n",
       "      <td>99.000000</td>\n",
       "      <td>28.100000</td>\n",
       "      <td>99.000000</td>\n",
       "      <td>20.18246</td>\n",
       "    </tr>\n",
       "  </tbody>\n",
       "</table>\n",
       "</div>"
      ],
      "text/plain": [
       "               life_exp60  diphtheria  hospitals  adult_mortality  \\\n",
       "missing_ratio     0.00000    0.610736  95.821279          0.00000   \n",
       "min              10.72800   19.000000   0.000000         49.20185   \n",
       "max              26.39402   99.000000  56.446950        696.87420   \n",
       "\n",
       "               age5-19obesity    year     gghe-d  une_school  une_poverty  \\\n",
       "missing_ratio        1.092896     0.0   3.214401   74.124076    70.652523   \n",
       "min                  0.100000  2000.0   0.062360    0.559340     0.100000   \n",
       "max                 26.700000  2016.0  12.062730   14.378800    94.100000   \n",
       "\n",
       "               une_literacy    une_hiv       une_pop  age1-4mort    che_gdp  \\\n",
       "missing_ratio     81.645773  23.818708  1.189328e+00    0.000000   3.760849   \n",
       "min               14.376040   0.100000  7.601600e+01    0.000065   1.025160   \n",
       "max               99.998190  28.200000  1.414049e+06    0.039095  20.413410   \n",
       "\n",
       "                 measles        une_gni        bmi  basic_water  infant_mort  \\\n",
       "missing_ratio   0.610736       3.760849   1.092896     1.028608     0.000000   \n",
       "min            16.000000     420.000000  19.800000    18.695210     0.001470   \n",
       "max            99.000000  122670.000000  32.200000   100.000010     0.164515   \n",
       "\n",
       "                 doctors  une_edu_spend  life_expect  hepatitis  \\\n",
       "missing_ratio  42.783671      41.337191      0.00000  18.289939   \n",
       "min             0.128000       0.787440     36.22736   2.000000   \n",
       "max            79.541000      14.059080     84.16616  99.000000   \n",
       "\n",
       "               age5-19thinness      polio   alcohol  \n",
       "missing_ratio         1.092896   0.610736   1.60720  \n",
       "min                   0.100000   8.000000   0.00000  \n",
       "max                  28.100000  99.000000  20.18246  "
      ]
     },
     "execution_count": 8,
     "metadata": {},
     "output_type": "execute_result"
    }
   ],
   "source": [
    "cate_cols = ['country', 'region']\n",
    "nume_cols = list(set(df.columns) - set(cate_cols))\n",
    "nume_col_profiles_df = df[nume_cols].agg([missing_ratio, min, max])\n",
    "nume_col_profiles_df"
   ]
  },
  {
   "cell_type": "markdown",
   "id": "db7ea114-33ad-4544-8e23-6c7d7cd43aef",
   "metadata": {},
   "source": [
    "Min, max không có gì bất thường ở đây cả!"
   ]
  },
  {
   "cell_type": "markdown",
   "id": "f3db233c-80dd-4365-a99a-abdad36d682c",
   "metadata": {},
   "source": [
    "**Tiếp tục khám phá các cột numeric**"
   ]
  },
  {
   "cell_type": "markdown",
   "id": "643468ef-4270-4bc9-b2fa-edcfe4488374",
   "metadata": {},
   "source": [
    "Xem thử tần suất xuất hiện của các năm trong dữ liệu có bằng nhau không?"
   ]
  },
  {
   "cell_type": "code",
   "execution_count": 9,
   "id": "6f511285-5591-4f7b-9d3f-b2f285bfb971",
   "metadata": {},
   "outputs": [
    {
     "data": {
      "text/plain": [
       "2000    183\n",
       "2001    183\n",
       "2002    183\n",
       "2003    183\n",
       "2004    183\n",
       "2005    183\n",
       "2006    183\n",
       "2007    183\n",
       "2008    183\n",
       "2009    183\n",
       "2010    183\n",
       "2011    183\n",
       "2012    183\n",
       "2013    183\n",
       "2014    183\n",
       "2015    183\n",
       "2016    183\n",
       "Name: year, dtype: int64"
      ]
     },
     "execution_count": 9,
     "metadata": {},
     "output_type": "execute_result"
    }
   ],
   "source": [
    "df['year'].value_counts().sort_index()"
   ]
  },
  {
   "cell_type": "markdown",
   "id": "72b9cfa4-f71a-4c3c-a4d3-8abc32746c52",
   "metadata": {},
   "source": [
    "*Nhận xét:* Mỗi năm đều chiếm 183 dòng trong dữ liệu. Điều này là hợp lý, vì theo mô tả, dữ liệu là thông tin của 183 quốc gia trong 17 năm (2000 - 2016) và mỗi dòng là mỗi quốc gia trong 1 năm."
   ]
  },
  {
   "cell_type": "markdown",
   "id": "90a8600d-e610-42e3-a758-b8b83809d1f9",
   "metadata": {},
   "source": [
    "Trực quan phân phối giá trị của cột \"life_expect\"."
   ]
  },
  {
   "cell_type": "code",
   "execution_count": 10,
   "id": "9159e13f-3fda-4f0e-8408-2a53baa598d6",
   "metadata": {},
   "outputs": [
    {
     "data": {
      "image/png": "[encoded data removed]",
      "text/plain": [
       "<Figure size 432x288 with 1 Axes>"
      ]
     },
     "metadata": {
      "needs_background": "light"
     },
     "output_type": "display_data"
    }
   ],
   "source": [
    "df['life_expect'].hist(bins=np.arange(35, 85, 5))\n",
    "plt.xlabel('life_expect')\n",
    "plt.title('Phân phối của cột \"life_expect\"')\n",
    "plt.show()"
   ]
  },
  {
   "cell_type": "markdown",
   "id": "f28e6ee5-3ed7-4c47-92fa-b3e1cc731115",
   "metadata": {},
   "source": [
    "*Nhận xét:* Tuổi thọ trung bình mỗi năm của mỗi nước (trong phạm vi tập dữ liệu) chủ yếu rơi vào khoảng 65-80 tuổi."
   ]
  },
  {
   "cell_type": "markdown",
   "id": "9e664448",
   "metadata": {},
   "source": [
    "## Với mỗi cột có kiểu dữ liệu dạng phân loại (categorical), các giá trị được phân bố như thế nào?"
   ]
  },
  {
   "cell_type": "markdown",
   "id": "9393369c-02d8-462b-9e07-b11434dcff62",
   "metadata": {},
   "source": [
    "Với mỗi cột categorical, ta sẽ tính tỉ lệ % giá trị thiếu (từ 0 đến 100), số lượng giá trị khác nhau (không xét giá trị thiếu), list/array các giá trị khác nhau (không xét giá trị thiếu). Sau đó lưu kết quả vào dataframe `cate_col_profiles_df`. Dataframe này có 3 dòng là \"missing_ratio\", \"num_diff_vals\", \"diff_vals\"; và có 2 cột là \"country\", \"region\". "
   ]
  },
  {
   "cell_type": "code",
   "execution_count": 11,
   "id": "ad8217d3-6a3a-48c2-b5af-bef2b28a842b",
   "metadata": {},
   "outputs": [
    {
     "data": {
      "text/html": [
       "<div>\n",
       "<style scoped>\n",
       "    .dataframe tbody tr th:only-of-type {\n",
       "        vertical-align: middle;\n",
       "    }\n",
       "\n",
       "    .dataframe tbody tr th {\n",
       "        vertical-align: top;\n",
       "    }\n",
       "\n",
       "    .dataframe thead th {\n",
       "        text-align: right;\n",
       "    }\n",
       "</style>\n",
       "<table border=\"1\" class=\"dataframe\">\n",
       "  <thead>\n",
       "    <tr style=\"text-align: right;\">\n",
       "      <th></th>\n",
       "      <th>country</th>\n",
       "      <th>region</th>\n",
       "    </tr>\n",
       "  </thead>\n",
       "  <tbody>\n",
       "    <tr>\n",
       "      <th>missing_ratio</th>\n",
       "      <td>0.0</td>\n",
       "      <td>0.0</td>\n",
       "    </tr>\n",
       "    <tr>\n",
       "      <th>num_diff_vals</th>\n",
       "      <td>183</td>\n",
       "      <td>6</td>\n",
       "    </tr>\n",
       "    <tr>\n",
       "      <th>diff_vals</th>\n",
       "      <td>[Angola, Burundi, Benin, Burkina Faso, Botswana, Central African Republic, United Republic of Tanzania, Uganda, South Africa, Zambia, Zimbabwe, South Sudan, Sao Tome and Principe, Eswatini, Seyche...</td>\n",
       "      <td>[Africa, Americas, Eastern Mediterranean, Europe, South-East Asia, Western Pacific]</td>\n",
       "    </tr>\n",
       "  </tbody>\n",
       "</table>\n",
       "</div>"
      ],
      "text/plain": [
       "                                                                                                                                                                                                               country  \\\n",
       "missing_ratio                                                                                                                                                                                                      0.0   \n",
       "num_diff_vals                                                                                                                                                                                                      183   \n",
       "diff_vals      [Angola, Burundi, Benin, Burkina Faso, Botswana, Central African Republic, United Republic of Tanzania, Uganda, South Africa, Zambia, Zimbabwe, South Sudan, Sao Tome and Principe, Eswatini, Seyche...   \n",
       "\n",
       "                                                                                            region  \n",
       "missing_ratio                                                                                  0.0  \n",
       "num_diff_vals                                                                                    6  \n",
       "diff_vals      [Africa, Americas, Eastern Mediterranean, Europe, South-East Asia, Western Pacific]  "
      ]
     },
     "execution_count": 11,
     "metadata": {},
     "output_type": "execute_result"
    }
   ],
   "source": [
    "pd.set_option('display.max_colwidth', 200) # Để nhìn rõ hơn\n",
    "def num_diff_vals(s):\n",
    "    return s.dropna().nunique()\n",
    "def diff_vals(s):\n",
    "    return s.dropna().unique()\n",
    "cate_col_profiles_df = df[cate_cols].agg([missing_ratio, num_diff_vals, diff_vals])\n",
    "cate_col_profiles_df"
   ]
  },
  {
   "cell_type": "markdown",
   "id": "3aab4f36-026c-48b3-a4be-c8a63c18216a",
   "metadata": {},
   "source": [
    "Không có gì bất thường ở đây cả!"
   ]
  },
  {
   "cell_type": "markdown",
   "id": "467ed61b-9012-4a3b-89e2-83398b2545dc",
   "metadata": {},
   "source": [
    "**Tiếp tục khám phá các cột categorical**"
   ]
  },
  {
   "cell_type": "markdown",
   "id": "175dc61d-9f35-464c-925a-9513f9c4409b",
   "metadata": {},
   "source": [
    "Xem thử tần suất xuất hiện của các quốc gia trong dữ liệu như thế nào?"
   ]
  },
  {
   "cell_type": "code",
   "execution_count": 12,
   "id": "9ee85386-01d8-43a9-8278-acf61d81b504",
   "metadata": {},
   "outputs": [
    {
     "data": {
      "text/plain": [
       "Viet Nam                17\n",
       "Zimbabwe                17\n",
       "Lesotho                 17\n",
       "Mexico                  17\n",
       "Russian Federation      17\n",
       "                        ..\n",
       "Syrian Arab Republic    17\n",
       "Cambodia                17\n",
       "Côte d'Ivoire           17\n",
       "Algeria                 17\n",
       "Bahrain                 17\n",
       "Name: country, Length: 183, dtype: int64"
      ]
     },
     "execution_count": 12,
     "metadata": {},
     "output_type": "execute_result"
    }
   ],
   "source": [
    "df['country'].value_counts()"
   ]
  },
  {
   "cell_type": "markdown",
   "id": "538cebda-2073-4d13-bd03-3a4985d0fbc0",
   "metadata": {},
   "source": [
    "*Nhận xét:* Mỗi quốc gia trong dữ liệu đều chiếm 17 dòng (điều này là hợp lý, như đã giải thích ở trên)."
   ]
  },
  {
   "cell_type": "markdown",
   "id": "ab83b326-ffd8-4d27-898b-4731271f5796",
   "metadata": {},
   "source": [
    "Trực quan tần suất xuất hiện của các khu vực trong dữ liệu."
   ]
  },
  {
   "cell_type": "code",
   "execution_count": 13,
   "id": "3cb63530-0ddd-4f35-8eea-b9aa3bcd9f04",
   "metadata": {},
   "outputs": [
    {
     "data": {
      "image/png": "[encoded data removed]",
      "text/plain": [
       "<Figure size 432x288 with 1 Axes>"
      ]
     },
     "metadata": {
      "needs_background": "light"
     },
     "output_type": "display_data"
    }
   ],
   "source": [
    "df['region'].value_counts().plot.barh()\n",
    "plt.xlabel('Số lần xuất hiện')\n",
    "plt.show()"
   ]
  },
  {
   "cell_type": "markdown",
   "id": "88371a9e-4c75-4463-90fe-3c2481d5a190",
   "metadata": {},
   "source": [
    "*Nhận xét*: Như vậy trong dữ liệu, các quốc gia ở khu vực **Europe** là xuất hiện nhiều nhất, sau đó đến khu vực **Africa**, **Americas** và các khu vực khác."
   ]
  },
  {
   "cell_type": "markdown",
   "id": "7d02565b-08bb-444b-9471-493743f935ff",
   "metadata": {},
   "source": [
    "# Tiền xử lý dữ liệu (tiếp tục)"
   ]
  },
  {
   "cell_type": "markdown",
   "id": "1b44e294-cf28-4f12-929c-2ab642359b78",
   "metadata": {},
   "source": [
    "Vì các cột \"hospitals\", \"doctors\", \"une_edu_spend\", \"une_poverty\", \"une_school\", \"une_literacy\" có tỉ lệ % giá trị thiếu cao nên ta sẽ tiến hành xóa các cột này đi."
   ]
  },
  {
   "cell_type": "code",
   "execution_count": 14,
   "id": "01ba11d8-4d41-4492-9aac-3659a8880642",
   "metadata": {},
   "outputs": [],
   "source": [
    "df.drop(columns=['hospitals', \n",
    "                 'doctors', \n",
    "                 'une_edu_spend', \n",
    "                 'une_poverty',\n",
    "                 'une_school', \n",
    "                 'une_literacy'], inplace=True)"
   ]
  },
  {
   "cell_type": "markdown",
   "id": "810c94bc-ba0a-47e8-a3f5-a87e14ccce09",
   "metadata": {},
   "source": [
    "**Số dòng, số cột của dữ liệu sau khi tiền xử lý.**"
   ]
  },
  {
   "cell_type": "code",
   "execution_count": 15,
   "id": "bd7b8255-234c-485f-baa9-269feead2b98",
   "metadata": {},
   "outputs": [
    {
     "data": {
      "text/plain": [
       "(3111, 22)"
      ]
     },
     "execution_count": 15,
     "metadata": {},
     "output_type": "execute_result"
    }
   ],
   "source": [
    "df.shape"
   ]
  },
  {
   "cell_type": "markdown",
   "id": "1d2b31b0",
   "metadata": {},
   "source": [
    "# Đưa ra các câu hỏi cần trả lời"
   ]
  },
  {
   "cell_type": "markdown",
   "id": "3e8b0b59",
   "metadata": {},
   "source": [
    "## Câu hỏi là gì?"
   ]
  },
  {
   "cell_type": "markdown",
   "id": "5b10078d-ba14-4ecb-bb50-4d4bb2f49dcc",
   "metadata": {},
   "source": [
    "- **Câu 1:** Thứ tự của các yếu tố trong dữ liệu là như thế nào khi xét theo mức độ ảnh hưởng đến tuổi thọ trung bình từ nhiều đến ít?\n",
    "- **Câu 2:** Top 5 các quốc gia nào có sự cải thiện về tuổi thọ trung bình tốt nhất trong giai đoạn từ năm 2000 - 2016?\n",
    "- **Câu 3:** BMI trung bình của các khu vực trong 3 năm đầu (2000 - 2002) và 3 năm cuối (2014 - 2016) thay đổi như thế nào?\n",
    "- **Câu 4:** Trong năm 2016 tỉ lệ tiêm chủng trung bình của các loại vaccine (trong phạm vi tập dữ liệu) của 5 quốc gia có tỉ lệ đó thấp nhất vào năm 2000 thay đổi như thế nào?"
   ]
  },
  {
   "cell_type": "markdown",
   "id": "dfa8a926",
   "metadata": {},
   "source": [
    "## Nếu trả lời được câu hỏi thì sẽ có lợi ích gì?"
   ]
  },
  {
   "cell_type": "markdown",
   "id": "0dc2552c-b890-4439-a3db-524fb92bfba2",
   "metadata": {},
   "source": [
    "- **Câu 1:** Câu trả lời cho câu hỏi trên giúp các quốc gia có thể nắm bắt được mức độ ảnh hưởng của các yếu tố đến tuổi thọ trung bình của quốc gia, từ đó quốc gia có thể điều chỉnh chính sách về y tế, giáo dục, kinh tế... để cải thiện tuổi thọ của người dân hoặc kiểm soát tuổi thọ phục vụ cho các chính sách phát triển đất nước.\n",
    "- **Câu 2:** Câu trả lời cho câu hỏi trên giúp biết được trong vòng 17 năm kể từ năm 2000 đến 2016, qua nhiều sự phát triển về khoa học kỹ thuật và y tế, các quốc gia có sự cải thiện về tuổi thọ trung bình hay không? Qua đó đánh giá được sự cải thiện về đời sống, dịch vụ y tế của từng quốc gia hay các yếu tố sinh hoạt văn hóa khác ẩn trong đó.\n",
    "- **Câu 3:** Việt Nam chắc thường nghe đến việc tỉ lệ béo phì tại các nước phương Tây có xu hướng cao hơn nhiều so với các quốc gia phương Đông, do một phần các cửa hàng thức ăn nhanh (FastFood) là xu hướng tại các quốc gia phương Tây. Với sự phát triển của thức ăn nhanh chuẩn phương Tây như gà rán, khoai tây chiên, thức uống coca,... Các dịch vụ đó không khó khăn khi bắt đầu tiếp cận với các nước phương Đông như Trung Quốc, Nhật Bản, Hàn Quốc và đặc biệt là Việt Nam. Qua đó, chúng ta muốn xem thử rằng, với sự phát triển đó, thì liệu BMI trung bình tại các nước phương Tây và phương Đông tại thời điểm hiện tại có khác biệt gì so với trước đó khi yếu tố là thức ăn nhanh được phủ rộng và từ đó các quốc gia có thể quyết định đưa ra các chính sách và khuyến cáo để người dân kiểm soát BMI.\n",
    "- **Câu 4:** Trong những năm gần đây, với sự diễn biến của dịch Covid-19, chúng ta mới dần nhận thấy rõ được tác động trực tiếp của Vaccine đến các loại dịch bệnh. Với sự phát triển của ngành y tế thế giới, nhiều quốc gia đã chủ động nâng cao sức khỏe người dân bằng cách tiêm các loại vaccine khác nhau nhằm tạo ra sự miễn dịch chủ động cho cơ thể. Trong tập dữ liệu là sự thống kê của 4 loại dịch bệnh (hepatitis - viêm gan B, measles - sởi, polio - bại liệt, diphtheria - uốn ván, ho gà), ta muốn xem rằng liệu trong vòng 17 năm, với sự phát triển của y học, liệu các quốc gia trên thế giới (đặc biệt là các quốc gia chậm phát triển, khó tiếp cận với nền y học đó) có được tiếp cận đầy đủ hay chưa, và kết quả cho câu hỏi trên sẽ giúp ta giải quyết thắc mắc đó. Và từ đó các quốc gia khác có thể hỗ trợ để giúp các quốc gia còn chậm phát triển tiếp cận được đầy đủ hơn. "
   ]
  },
  {
   "cell_type": "markdown",
   "id": "5027739f",
   "metadata": {},
   "source": [
    "# Tiền xử lý + phân tích dữ liệu để trả lời câu hỏi"
   ]
  },
  {
   "cell_type": "markdown",
   "id": "83cfb0b4",
   "metadata": {},
   "source": [
    "## Câu 1\n",
    "\n",
    "Thứ tự của các yếu tố trong dữ liệu là như thế nào khi xét theo mức độ ảnh hưởng đến tuổi thọ trung bình từ nhiều đến ít?"
   ]
  },
  {
   "cell_type": "markdown",
   "id": "31fdb07d-5535-4932-a370-2bd4dd0d5939",
   "metadata": {},
   "source": [
    "- Liệt kê ra các cột là yếu tố ảnh hưởng đến tuổi thọ trung bình, thêm vào list các cột đó cột tuổi thọ trung bình.\n",
    "- Dùng hàm `corr` để tính hệ số tương quan của từng cặp cột. Sau đó giữ lại các hệ số tương quan của các cột yếu tố ảnh hưởng đối với cột \"life_expect\" và sắp xếp theo thứ tự giảm dần. Lưu kết quả vào series `order_influence`, trong đó index là các yếu tố, values là các hệ số tương quan."
   ]
  },
  {
   "cell_type": "code",
   "execution_count": 16,
   "id": "595b7301-9826-4626-8364-3bbcfdcac4a4",
   "metadata": {},
   "outputs": [
    {
     "data": {
      "text/plain": [
       "basic_water        0.831099\n",
       "polio              0.646486\n",
       "diphtheria         0.640473\n",
       "measles            0.640408\n",
       "age5-19obesity     0.621000\n",
       "gghe-d             0.609787\n",
       "une_gni            0.603019\n",
       "bmi                0.597996\n",
       "alcohol            0.399797\n",
       "hepatitis          0.341137\n",
       "che_gdp            0.284920\n",
       "une_pop            0.032126\n",
       "une_hiv           -0.511821\n",
       "age5-19thinness   -0.565396\n",
       "Name: life_expect, dtype: float64"
      ]
     },
     "execution_count": 16,
     "metadata": {},
     "output_type": "execute_result"
    }
   ],
   "source": [
    "infor_cols = ['country ', 'life_exp60', 'adult_mortality', 'infant_mort', 'age1-4mort', 'year']\n",
    "influence_cols = list(set(df.columns) - set(infor_cols))\n",
    "corr = df[influence_cols].corr()\n",
    "order_influence = corr['life_expect'].drop('life_expect')\n",
    "order_influence.sort_values(ascending=False, inplace=True)\n",
    "order_influence"
   ]
  },
  {
   "cell_type": "markdown",
   "id": "c0a4e38e-5d1a-4710-bff2-3f7879855d6c",
   "metadata": {},
   "source": [
    "Kết quả thu được cho thấy: \n",
    "- Yếu tố \"basic_water\"(tỷ lệ dân số sử dụng các loại nước uống cơ bản) có ảnh hưởng lớn nhất đến tuổi thọ trung bình. Điều đó càng cho thấy rõ hơn các loại nước uống cơ bản là một phần không thể thiếu trong việc duy trì một sức khỏe tốt.\n",
    "- Tiếp đến là tỉ lệ tiêm các loại vaccine (polio, diphtheria, measles), từ đó cho thấy được tầm quan trọng của việc tiêm ngừa đối với các loại dịch bệnh, các quốc gia cần tuyên truyền, kêu gọi người dân tiêm đủ các loại vaccine, vì an toàn cho bản thân và tránh trở thành gánh nặng cho gia đình, đất nước. \n",
    "- Các yếu tố về kinh tế (\"gghe-d\": chi tiêu chung cho y tế của chính phủ trong nước, \"une_gni\": GNI bình quân đầu người) cũng có mối tương quan lớn đối với tuổi trọ trung bình. Các quốc gia có nền kinh tế phát triển, đầu tư, chi tiêu nhiều vào y tế thì sức khỏe, tinh thần của người dân sẽ ổn định, và từ đó càng thúc đẩy kinh tế đất nước đi lên.\n",
    "- Tiếp theo là các yếu tố \"age5-19obesity\" (tỷ lệ béo phì ở trẻ em và thanh thiếu niên) và \"bmi\" (BMI trung bình) cũng ảnh hưởng nhiều đến tuổi thọ, qua đó cho thấy được việc giữ cho cơ thể cân đối sẽ phần nào giúp bản thân khỏe mạnh và kéo dài tuổi thọ hơn."
   ]
  },
  {
   "cell_type": "markdown",
   "id": "82d6de07",
   "metadata": {},
   "source": [
    "## Câu 2\n",
    "\n",
    "Top 5 các quốc gia nào có sự cải thiện về tuổi thọ trung bình tốt nhất trong giai đoạn từ năm 2000 - 2016?"
   ]
  },
  {
   "cell_type": "markdown",
   "id": "7514907c",
   "metadata": {},
   "source": [
    "- Ta tiến hành gom nhóm theo từng quốc gia để tính toán về sự chênh lệch tuổi thọ của năm đầu tiên 2000 và năm cuối cùng 2016. Sau đó sắp xếp theo thứ tự sự chênh lệch về tuổi thọ trung bình của quốc gia đó trong 17 năm giảm dần. Cuối cùng ta lấy 5 giá trị đầu tiên của kết quả trả về.\n",
    "- Để gom nhóm, ta sẽ sử dụng hàm group_by theo `country`, và lấy giá trị của `life_expect` để tính toán. Sau khi tính toán min, max, sự cải thiện về tuổi thọ trung bình `enhance_expectancy`, ta sắp xếp theo thứ tự giảm dần của giá trị vừa tìm được, là dùng hàm head để in ra top đầu các giá trị được sắp xếp. Ta thu được một bảng dữ liệu các quốc gia có sự cải thiện về tuổi thọ trung bình từ cao đến thấp."
   ]
  },
  {
   "cell_type": "code",
   "execution_count": 17,
   "id": "f923a3dc",
   "metadata": {},
   "outputs": [
    {
     "data": {
      "text/html": [
       "<div>\n",
       "<style scoped>\n",
       "    .dataframe tbody tr th:only-of-type {\n",
       "        vertical-align: middle;\n",
       "    }\n",
       "\n",
       "    .dataframe tbody tr th {\n",
       "        vertical-align: top;\n",
       "    }\n",
       "\n",
       "    .dataframe thead th {\n",
       "        text-align: right;\n",
       "    }\n",
       "</style>\n",
       "<table border=\"1\" class=\"dataframe\">\n",
       "  <thead>\n",
       "    <tr style=\"text-align: right;\">\n",
       "      <th></th>\n",
       "      <th>min</th>\n",
       "      <th>max</th>\n",
       "      <th>enhance_expectancy</th>\n",
       "    </tr>\n",
       "    <tr>\n",
       "      <th>country</th>\n",
       "      <th></th>\n",
       "      <th></th>\n",
       "      <th></th>\n",
       "    </tr>\n",
       "  </thead>\n",
       "  <tbody>\n",
       "    <tr>\n",
       "      <th>Rwanda</th>\n",
       "      <td>46.57228</td>\n",
       "      <td>68.03925</td>\n",
       "      <td>21.46697</td>\n",
       "    </tr>\n",
       "    <tr>\n",
       "      <th>Eritrea</th>\n",
       "      <td>43.93246</td>\n",
       "      <td>64.96657</td>\n",
       "      <td>21.03411</td>\n",
       "    </tr>\n",
       "    <tr>\n",
       "      <th>Malawi</th>\n",
       "      <td>45.90067</td>\n",
       "      <td>64.17274</td>\n",
       "      <td>18.27207</td>\n",
       "    </tr>\n",
       "    <tr>\n",
       "      <th>Zambia</th>\n",
       "      <td>44.42588</td>\n",
       "      <td>62.32869</td>\n",
       "      <td>17.90281</td>\n",
       "    </tr>\n",
       "    <tr>\n",
       "      <th>Botswana</th>\n",
       "      <td>47.55310</td>\n",
       "      <td>66.05297</td>\n",
       "      <td>16.94230</td>\n",
       "    </tr>\n",
       "  </tbody>\n",
       "</table>\n",
       "</div>"
      ],
      "text/plain": [
       "               min       max  enhance_expectancy\n",
       "country                                         \n",
       "Rwanda    46.57228  68.03925            21.46697\n",
       "Eritrea   43.93246  64.96657            21.03411\n",
       "Malawi    45.90067  64.17274            18.27207\n",
       "Zambia    44.42588  62.32869            17.90281\n",
       "Botswana  47.55310  66.05297            16.94230"
      ]
     },
     "execution_count": 17,
     "metadata": {},
     "output_type": "execute_result"
    }
   ],
   "source": [
    "def enhance_expectancy(s):\n",
    "#   pow(s.iloc[-1]/s.iloc[0],1/17)-1\n",
    "    return s.iloc[-1]-s.iloc[0]\n",
    "enhance_df = df.groupby('country')['life_expect'].agg(\n",
    "    ['min','max', enhance_expectancy]).sort_values('enhance_expectancy', ascending=False)\n",
    "enhance_df.head(5)"
   ]
  },
  {
   "cell_type": "markdown",
   "id": "a6d355d3-ef37-4491-b72c-3eef6553659a",
   "metadata": {},
   "source": [
    "Để theo dõi rõ hơn sự cải thiện về tuổi thọ trung bình của top 5 quốc gia có sự cải thiện tốt nhất, ta sẽ tiến hành vẽ biểu đồ đường về tuổi thọ trung bình qua các năm (5 đường dạng line ứng với 5 quốc gia), trong đó trục hoành là năm, trục tung là tuổi thọ trung bình."
   ]
  },
  {
   "cell_type": "code",
   "execution_count": 18,
   "id": "e2aecdd7-4411-4b62-89ce-e8f0fc929e09",
   "metadata": {},
   "outputs": [
    {
     "data": {
      "image/png": "[encoded data removed]",
      "text/plain": [
       "<Figure size 432x288 with 1 Axes>"
      ]
     },
     "metadata": {
      "needs_background": "light"
     },
     "output_type": "display_data"
    }
   ],
   "source": [
    "def plot_line(s):\n",
    "    country_df = df[df['country']==s]\n",
    "    plt.plot(country_df['year'], country_df['life_expect'], 'o-')\n",
    "\n",
    "for country in enhance_df[:5].index:\n",
    "    plot_line(country)\n",
    "plt.legend(enhance_df[:5].index)\n",
    "plt.title('Tuổi thọ trung bình qua các năm \\n của top 5 quốc gia có sự cải thiện tốt nhất', pad=10, fontsize=14)\n",
    "plt.xlabel('Year', fontsize=12)\n",
    "plt.ylabel('Life expect', fontsize=12)\n",
    "plt.show()"
   ]
  },
  {
   "cell_type": "markdown",
   "id": "e6abd23c",
   "metadata": {},
   "source": [
    "- Kết quả thu được là một bảng dữ liệu các quốc gia có sự cải thiện về tuổi thọ trung bình từ cao đến thấp. \n",
    "- Ta thấy, Rwanda, Eritrea, Malawi, Zambia, Botswana là quốc gia nằm ở Đông và Nam Phi. Ta được biết vào đầu những năm 2000, các vùng lãnh thổ quốc gia Châu Phi là những quốc gia kém phát triển, đói nghèo, điều đó dẫn đến tuổi thọ thấp. Nhưng ta nhận thấy sau 17 năm, các quốc gia Châu Phi đã có sự cải thiện vượt bậc về tuổi thọ trung bình. Đây có thể là do sự chuyển mình về các chính sách xóa đói giảm nghèo, người dân được no ấm hơn, dẫn đến tuổi thọ cũng được cải thiện tốt hơn."
   ]
  },
  {
   "cell_type": "markdown",
   "id": "00758103",
   "metadata": {},
   "source": [
    "## Câu 3\n",
    "\n",
    "BMI trung bình của các khu vực trong 3 năm đầu (2000 - 2002) và 3 năm cuối (2014 - 2016) thay đổi như thế nào?"
   ]
  },
  {
   "cell_type": "markdown",
   "id": "baa4b8ec",
   "metadata": {},
   "source": [
    "- Ta tiến hành gom nhóm các vùng khu vực và tính giá trị trung bình của chỉ số bmi theo từng năm của từng khu vực đó. Ta thu được bảng dữ liệu về giá trị trung bình chỉ số bmi của từng năm của từng khu vực. Sau đó, ta tính giá trị trung bình của 3 năm đầu và 3 năm cuối đưa vào bảng dữ liệu mới `df_bmi`.\n",
    "- Ta dùng hàm groupby để gom nhóm region và year và tính giá trị trung bình chỉ số bmi theo năm đã được gom nhóm. Sau đó, ta tạo một dataframe có 2 cột là `first_year` và `last_year`. Sau đó ta tính giá trị trung bình của 3 năm đầu và 3 năm cuối trong bảng `df_bmi` và đưa kết quả vào lần lượt 2 cột `df_bmi`."
   ]
  },
  {
   "cell_type": "code",
   "execution_count": 19,
   "id": "5fb48494",
   "metadata": {},
   "outputs": [
    {
     "data": {
      "text/html": [
       "<div>\n",
       "<style scoped>\n",
       "    .dataframe tbody tr th:only-of-type {\n",
       "        vertical-align: middle;\n",
       "    }\n",
       "\n",
       "    .dataframe tbody tr th {\n",
       "        vertical-align: top;\n",
       "    }\n",
       "\n",
       "    .dataframe thead th {\n",
       "        text-align: right;\n",
       "    }\n",
       "</style>\n",
       "<table border=\"1\" class=\"dataframe\">\n",
       "  <thead>\n",
       "    <tr style=\"text-align: right;\">\n",
       "      <th></th>\n",
       "      <th>first_year</th>\n",
       "      <th>last_year</th>\n",
       "    </tr>\n",
       "  </thead>\n",
       "  <tbody>\n",
       "    <tr>\n",
       "      <th>Africa</th>\n",
       "      <td>22.457246</td>\n",
       "      <td>23.489130</td>\n",
       "    </tr>\n",
       "    <tr>\n",
       "      <th>Americas</th>\n",
       "      <td>25.717172</td>\n",
       "      <td>27.102020</td>\n",
       "    </tr>\n",
       "    <tr>\n",
       "      <th>Eastern Mediterranean</th>\n",
       "      <td>25.623333</td>\n",
       "      <td>26.671667</td>\n",
       "    </tr>\n",
       "    <tr>\n",
       "      <th>Europe</th>\n",
       "      <td>25.603333</td>\n",
       "      <td>26.434667</td>\n",
       "    </tr>\n",
       "    <tr>\n",
       "      <th>South-East Asia</th>\n",
       "      <td>21.645455</td>\n",
       "      <td>22.990909</td>\n",
       "    </tr>\n",
       "    <tr>\n",
       "      <th>Western Pacific</th>\n",
       "      <td>24.917460</td>\n",
       "      <td>26.026984</td>\n",
       "    </tr>\n",
       "  </tbody>\n",
       "</table>\n",
       "</div>"
      ],
      "text/plain": [
       "                       first_year  last_year\n",
       "Africa                  22.457246  23.489130\n",
       "Americas                25.717172  27.102020\n",
       "Eastern Mediterranean   25.623333  26.671667\n",
       "Europe                  25.603333  26.434667\n",
       "South-East Asia         21.645455  22.990909\n",
       "Western Pacific         24.917460  26.026984"
      ]
     },
     "execution_count": 19,
     "metadata": {},
     "output_type": "execute_result"
    }
   ],
   "source": [
    "df_bmi_by_year = df.groupby(['region','year'])['bmi'].agg('mean').unstack(1)\n",
    "df_bmi_by_year.index.name = None\n",
    "df_bmi_by_year.columns.name = None\n",
    "\n",
    "df_bmi = pd.DataFrame(index=df_bmi_by_year.index, \n",
    "                  columns=[\"first_year\", \"last_year\"])\n",
    "\n",
    "df_bmi['first_year'] = df_bmi_by_year[df_bmi_by_year.columns[:3]].mean(axis=1)\n",
    "df_bmi['last_year'] = df_bmi_by_year[df_bmi_by_year.columns[-3:]].mean(axis=1)\n",
    "\n",
    "df_bmi"
   ]
  },
  {
   "cell_type": "markdown",
   "id": "687963cd-f378-44ad-89f2-a1f33ef9e090",
   "metadata": {},
   "source": [
    "Từ kết quả ở trên, ta sẽ vẽ biểu đồ cột (2 cột ứng với 2 giai đoạn) cho thấy sự chênh lệch về BMI trung bình của các khu vực trong 3 năm đầu (2000 - 2002) và 3 năm cuối (2014 - 2016), trong đó trục hoành là khu vực, trục tung là BMI trung bình."
   ]
  },
  {
   "cell_type": "code",
   "execution_count": 20,
   "id": "45094939-85ff-4ee6-8268-12b13c97fab3",
   "metadata": {},
   "outputs": [
    {
     "data": {
      "text/plain": [
       "Text(0, 0.5, 'BMI')"
      ]
     },
     "execution_count": 20,
     "metadata": {},
     "output_type": "execute_result"
    },
    {
     "data": {
      "image/png": "[encoded data removed]",
      "text/plain": [
       "<Figure size 432x288 with 1 Axes>"
      ]
     },
     "metadata": {
      "needs_background": "light"
     },
     "output_type": "display_data"
    }
   ],
   "source": [
    "ax = df_bmi.plot.bar(rot=30)\n",
    "plt.title('BMI trung bình của các khu vực \\n trong 3 năm đầu (2000 - 2002) và 3 năm cuối (2014 - 2016) ', pad=10, fontsize=14)\n",
    "plt.xlabel('Region', fontsize=12)\n",
    "plt.ylabel('BMI', fontsize=12)"
   ]
  },
  {
   "cell_type": "markdown",
   "id": "e9a7a806",
   "metadata": {},
   "source": [
    "- Kết quả thu được là một bảng dữ liệu về giá trị trung bình của chỉ số bmi của ba năm đầu và 3 năm cuối của từng khu vực.\n",
    "- Ta thấy, tại các vùng khu vực Châu Phi, tỉ lệ BMI tại khu vực này có xu hướng tăng nhưng ít, ta có thể đoán là người dân tại khu vực này dần có cuộc sống no đủ hơn trước.\n",
    "- Ta thấy tỉ lệ người thừa cân (BMI > 24.9) tại các nước vùng America và Europe đang có xu hướng tăng dần, điều này cũng không khó để giải thích vì tại đây thị trường thức ăn nhanh luôn luôn là hình thức được ưu tiên của người dân tại đây, vì chi phí rẻ và nhanh, phù hợp với các quốc gia phát triển.\n",
    "- Tại các quốc gia Châu Á (phương Đông) vùng South-East Asia, Western Pacific cũng có xu hướng tăng tuy nhiên vùng South-East Asia vẫn thấp nhất các khu vực khác. Ta có thể suy đoán rằng, tại các quốc gia vùng South-East Asia, các quốc gia này chủ yếu là các nước đang phát triển, và có văn hóa ẩm thực đường phố lâu đời, đặc biệt là Việt Nam, thêm một điều nữa là tại các quốc gia phương Đông, đề cao bữa cơm gia đình (những thức ăn có độ thanh đạm cao, tốt cho sức khỏe hơn ăn thức ăn nhanh). "
   ]
  },
  {
   "cell_type": "markdown",
   "id": "f68891e6",
   "metadata": {},
   "source": [
    "## Câu 4\n",
    "\n",
    "Trong năm 2016 tỉ lệ tiêm chủng trung bình (trong phạm vi tập dữ liệu) của 5 quốc gia có tỉ lệ tiêm chủng thấp nhất vào năm 2000 thay đổi như thế nào?"
   ]
  },
  {
   "cell_type": "markdown",
   "id": "aac0d9c2-116e-4d02-ae6e-2b21d8b48ad2",
   "metadata": {},
   "source": [
    "Từ câu 1 ta thấy tỉ lệ tiêm chủng của một quốc gia có ảnh hưởng quan trọng đến tuổi thọ trung bình của quốc gia đó. Ta muốn xem các nước trên thế giới có sự cải thiện gì về việc tiêm chủng cho người dân trong 17 năm qua hay không? Câu trả lời cho câu hỏi trên phần nào giải đáp được thắc mắc này."
   ]
  },
  {
   "cell_type": "markdown",
   "id": "a0214611-47c1-47fc-bc6a-6727260bb43a",
   "metadata": {},
   "source": [
    "### Tiền xử lý"
   ]
  },
  {
   "cell_type": "markdown",
   "id": "682dbd90-821f-41a9-8a25-ce033d4b406d",
   "metadata": {},
   "source": [
    "Thêm vào dataframe cột \"vaccination\" là tỉ lệ tiêm chủng trung bình của các loại vaccine (trong phạm vi tập dữ liệu)."
   ]
  },
  {
   "cell_type": "code",
   "execution_count": 21,
   "id": "4a6b02ea-8dc9-4bba-aec6-f179a7c47c37",
   "metadata": {},
   "outputs": [],
   "source": [
    "df['vaccination'] = df[['hepatitis', 'measles', 'polio', 'diphtheria']].mean(axis=1, skipna=True)"
   ]
  },
  {
   "cell_type": "markdown",
   "id": "e0ce76a7-0134-42b5-8106-4b6037e1be0b",
   "metadata": {},
   "source": [
    "### Phân tích"
   ]
  },
  {
   "cell_type": "markdown",
   "id": "2141210e-ede3-4539-97e2-395ecc1ae496",
   "metadata": {},
   "source": [
    "Tỉ lệ tăng trưởng của việc tiêm chủng trong giao đoạn 2000 - 2016 của các quốc gia được tính theo công thức: (tỉ lệ năm 2016 - tỉ lệ năm 2000) / tỉ lệ năm 2000 * 100%.\n",
    "Tính dataframe `vaccine_df` gồm 3 cột (tên là \"vaccination_2000\", \"vaccination_2016\", \"growth_rate\") ứng với tỉ lệ tiêm chủng năm 2000, tỉ lệ tiêm chủng năm 2016 và tỉ lệ tăng trưởng của việc tiêm chủng trong giai đoạn này; index là tên các quốc gia. Sắp xếp theo thứ tự giảm dần của tỉ lệ tăng trưởng, sau đó dùng `head(5)` để in ra top 5 các quốc gia có sự thay đổi (tăng trưởng) lớn nhất. "
   ]
  },
  {
   "cell_type": "code",
   "execution_count": 22,
   "id": "e8debb85-59af-4f2e-9fd7-b8fee19a74d4",
   "metadata": {},
   "outputs": [
    {
     "data": {
      "text/html": [
       "<div>\n",
       "<style scoped>\n",
       "    .dataframe tbody tr th:only-of-type {\n",
       "        vertical-align: middle;\n",
       "    }\n",
       "\n",
       "    .dataframe tbody tr th {\n",
       "        vertical-align: top;\n",
       "    }\n",
       "\n",
       "    .dataframe thead th {\n",
       "        text-align: right;\n",
       "    }\n",
       "</style>\n",
       "<table border=\"1\" class=\"dataframe\">\n",
       "  <thead>\n",
       "    <tr style=\"text-align: right;\">\n",
       "      <th></th>\n",
       "      <th>vaccination_2000</th>\n",
       "      <th>vaccination_2016</th>\n",
       "      <th>growth_rate</th>\n",
       "    </tr>\n",
       "    <tr>\n",
       "      <th>country</th>\n",
       "      <th></th>\n",
       "      <th></th>\n",
       "      <th></th>\n",
       "    </tr>\n",
       "  </thead>\n",
       "  <tbody>\n",
       "    <tr>\n",
       "      <th>Afghanistan</th>\n",
       "      <td>25.000000</td>\n",
       "      <td>67.25</td>\n",
       "      <td>169.000000</td>\n",
       "    </tr>\n",
       "    <tr>\n",
       "      <th>Angola</th>\n",
       "      <td>28.000000</td>\n",
       "      <td>53.00</td>\n",
       "      <td>89.285714</td>\n",
       "    </tr>\n",
       "    <tr>\n",
       "      <th>Nigeria</th>\n",
       "      <td>31.000000</td>\n",
       "      <td>52.50</td>\n",
       "      <td>69.354839</td>\n",
       "    </tr>\n",
       "    <tr>\n",
       "      <th>Somalia</th>\n",
       "      <td>31.333333</td>\n",
       "      <td>44.25</td>\n",
       "      <td>41.223404</td>\n",
       "    </tr>\n",
       "    <tr>\n",
       "      <th>Chad</th>\n",
       "      <td>31.333333</td>\n",
       "      <td>40.75</td>\n",
       "      <td>30.053191</td>\n",
       "    </tr>\n",
       "  </tbody>\n",
       "</table>\n",
       "</div>"
      ],
      "text/plain": [
       "             vaccination_2000  vaccination_2016  growth_rate\n",
       "country                                                     \n",
       "Afghanistan         25.000000             67.25   169.000000\n",
       "Angola              28.000000             53.00    89.285714\n",
       "Nigeria             31.000000             52.50    69.354839\n",
       "Somalia             31.333333             44.25    41.223404\n",
       "Chad                31.333333             40.75    30.053191"
      ]
     },
     "execution_count": 22,
     "metadata": {},
     "output_type": "execute_result"
    }
   ],
   "source": [
    "vaccine_df = pd.DataFrame()\n",
    "vaccine_df['country'] = df['country'].unique()\n",
    "\n",
    "vaccination_2000 = df[df['year']==2000]['vaccination'].array\n",
    "vaccination_2016 = df[df['year']==2016]['vaccination'].array\n",
    "vaccine_df['vaccination_2000'] = vaccination_2000\n",
    "vaccine_df['vaccination_2016'] = vaccination_2016\n",
    "vaccine_df.sort_values(by='vaccination_2000', inplace=True)\n",
    "vaccine_df['growth_rate'] = (vaccine_df['vaccination_2016'] - vaccine_df['vaccination_2000']) \\\n",
    "                            / vaccine_df['vaccination_2000'] * 100\n",
    "vaccine_df.set_index('country', inplace=True)\n",
    "vaccine_df.head(5)"
   ]
  },
  {
   "cell_type": "markdown",
   "id": "a51523c7-7c38-4d91-a167-344f0bd6f1e8",
   "metadata": {},
   "source": [
    "Từ kết quả ở trên, ta tiến hành vẽ biểu đồ cột (2 cột ứng với tỉ lệ tiêm chủng năm 2000 và năm 2016) cho thấy được sự thay đổi về tỉ lệ tiêm chủng của top 5 quốc gia có sự tăng trưởng lớn nhất, trong đó trục hoành là quốc gia, trục tung là tỉ lệ tiêm chủng."
   ]
  },
  {
   "cell_type": "code",
   "execution_count": 23,
   "id": "00e936af-bc4c-4714-b5af-2577e9edd9c7",
   "metadata": {},
   "outputs": [
    {
     "data": {
      "text/plain": [
       "Text(0, 0.5, 'Vaccination rate')"
      ]
     },
     "execution_count": 23,
     "metadata": {},
     "output_type": "execute_result"
    },
    {
     "data": {
      "image/png": "[encoded data removed]",
      "text/plain": [
       "<Figure size 432x288 with 1 Axes>"
      ]
     },
     "metadata": {
      "needs_background": "light"
     },
     "output_type": "display_data"
    }
   ],
   "source": [
    "ax = vaccine_df[:5].plot.bar(y=['vaccination_2000', 'vaccination_2016'], rot=0)\n",
    "plt.title('Tỉ lệ tiêm chủng trung bình năm 2000 và năm 2016', pad=10, fontsize=14)\n",
    "plt.xlabel('Contry', fontsize=12)\n",
    "plt.ylabel('Vaccination rate', fontsize=12)"
   ]
  },
  {
   "cell_type": "markdown",
   "id": "7305f068-d235-4543-a915-dc0acd6d5c90",
   "metadata": {},
   "source": [
    "- Kết quả thu được là một bảng dữ liệu về tỉ lệ tăng trưởng về tiêm chủng của các quốc gia trong giai đoạn 2000 - 2016.\n",
    "- Ta thấy, tại các vùng khu vực Châu Phi và Đông Địa Trung Hải, tỉ lệ tiêm chủng của các quốc gia có sự tăng trưởng mạnh từ đó cho thấy được các quốc gia ở các khu vực này đã có sự phát triển và tiếp cận với nền y tế thế giới. Đặt biệt là quốc gia \"Afghanistan\" có sự tăng trưởng rõ rệt nhất, qua 17 năm tỉ lệ tiêm chủng ở quốc gia này tăng gần 170%."
   ]
  },
  {
   "cell_type": "markdown",
   "id": "638dc9f6",
   "metadata": {},
   "source": [
    "# Nhìn lại quá trình làm đồ án"
   ]
  },
  {
   "cell_type": "markdown",
   "id": "8336bf6c",
   "metadata": {},
   "source": [
    "## Đã gặp những khó khăn gì?"
   ]
  },
  {
   "cell_type": "markdown",
   "id": "bf022b73",
   "metadata": {},
   "source": [
    "### Bùi Đoàn Hữu Nhân"
   ]
  },
  {
   "cell_type": "markdown",
   "id": "63327b6b-1109-48b5-a27d-3393d1a002b8",
   "metadata": {},
   "source": [
    "- Trong quá trình thực hiện đồ án, em có gặp những khó khăn như tìm cách để trực quan những dữ liệu trong dataset. Do dữ liệu ở quá khứ (2000-2016) nên việc phân tích và tìm đáp án cho câu hỏi có đôi chút khó khăn, cần phải tìm nguồn dữ liệu thích hợp để trả lời cho những câu hỏi đó.\n",
    "- Việc sử dụng các câu lệnh Git để có thể làm việc nhóm cũng là một khó khăn nhỏ đối với em, đặc biệt là khi giải quyết conflict đối với file `.ipynb`. Nhưng nhóm em cũng tìm ra giải pháp quản lí source code để có thể dễ xử lí conflict nhất có thể."
   ]
  },
  {
   "cell_type": "markdown",
   "id": "1fc29630",
   "metadata": {},
   "source": [
    "### Đinh Hữu Phúc Trung"
   ]
  },
  {
   "cell_type": "markdown",
   "id": "8f564bf9-6e9e-45b8-bc19-14989a21415a",
   "metadata": {},
   "source": [
    "- Khó khăn khi dùng git và chia branch để làm việc nhóm, do lần đầu làm việc nhóm theo kiểu này nên ban đầu em có gặp khó khăn đôi chút như là giải quyết conflict, chia branch,...\n",
    "- Khó khăn khi chọn dataset phù hợp cho đồ án (dataset có thể khai thác được các câu hỏi có ý nghĩa)."
   ]
  },
  {
   "cell_type": "markdown",
   "id": "95f5341e",
   "metadata": {},
   "source": [
    "## Có học được gì hữu ích không?"
   ]
  },
  {
   "cell_type": "markdown",
   "id": "c6a90598",
   "metadata": {},
   "source": [
    "### Bùi Đoàn Hữu Nhân"
   ]
  },
  {
   "cell_type": "markdown",
   "id": "97c1b853-54a6-483d-a2ff-1101f87ff1bc",
   "metadata": {},
   "source": [
    "- Qua đồ án, em được luyện tập về cách sử dụng câu lệnh git rất nhiều và cảm thấy nó nhanh so với dùng giao diện. Em cũng học được các cú pháp của python đặc biệt là thư viện `pandas` và `numpy`. "
   ]
  },
  {
   "cell_type": "markdown",
   "id": "99def3c9",
   "metadata": {},
   "source": [
    "### Đinh Hữu Phúc Trung"
   ]
  },
  {
   "cell_type": "markdown",
   "id": "0f649500-cf1a-4c12-a9fd-8e7778dd142d",
   "metadata": {},
   "source": [
    "- Học được cách làm việc nhóm qua git và github.\n",
    "- Ôn lại và trao dồi thêm kiến thức về các thư viện `pandas`, `numpy`, `matplotlib`."
   ]
  },
  {
   "cell_type": "markdown",
   "id": "9a4aca7a",
   "metadata": {},
   "source": [
    "## Nếu có thêm thời gian thì sẽ làm gì?"
   ]
  },
  {
   "cell_type": "markdown",
   "id": "e6b2b0f5-d039-4b6c-8bde-b34c1da9d3b2",
   "metadata": {},
   "source": [
    "Nếu có thêm thời gian thì nhóm em sẽ: \n",
    "- Thu thập nhiều dataset hơn, và tổng hợp thành những dataset có nhiều dữ liệu để xử lí hơn, từ đó giải đáp được nhiều câu hỏi mà nhóm có thể đặt ra với lượng dataset lớn.\n",
    "- Trau chuốt câu hỏi hơn, tìm được nhiều hàm thống kê dữ liệu tốt hơn để có thể xử lí được những vấn đề phức tạp hơn."
   ]
  },
  {
   "cell_type": "markdown",
   "id": "f17201b8",
   "metadata": {},
   "source": [
    "# Tài liệu tham khảo"
   ]
  },
  {
   "cell_type": "markdown",
   "id": "e8283d55-2061-49ac-b949-6403a0c43bed",
   "metadata": {},
   "source": [
    "- [Thùng chứa tài liệu môn học Lập trình cho khoa học dữ liệu - 19_21](https://drive.google.com/drive/folders/1SjFqRRhU3HIuHSGErOcmxX31cYEnAKHE)\n",
    "- [Thư viện Numpy](https://numpy.org/doc/stable/reference/)\n",
    "- [Thư viện Pandas](https://pandas.pydata.org/docs/reference/)\n",
    "- [Thư viện Matplotlib](https://matplotlib.org/stable/)"
   ]
  }
 ],
 "metadata": {
  "kernelspec": {
   "display_name": "Python 3 (ipykernel)",
   "language": "python",
   "name": "python3"
  },
  "language_info": {
   "codemirror_mode": {
    "name": "ipython",
    "version": 3
   },
   "file_extension": ".py",
   "mimetype": "text/x-python",
   "name": "python",
   "nbconvert_exporter": "python",
   "pygments_lexer": "ipython3",
   "version": "3.8.8"
  },
  "toc-autonumbering": true,
  "toc-showcode": true,
  "toc-showmarkdowntxt": false,
  "toc-showtags": false
 },
 "nbformat": 4,
 "nbformat_minor": 5
}
