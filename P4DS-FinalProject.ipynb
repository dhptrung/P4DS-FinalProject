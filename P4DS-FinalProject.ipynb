{
 "cells": [
  {
   "cell_type": "markdown",
   "id": "ee1d28f2-ced2-4e3f-b1b3-8089792b91f9",
   "metadata": {},
   "source": [
    "<center style=\"color:red;font-size:35px;padding:15px\"><b> ĐỒ ÁN CUỐI KỲ </b></center>\n",
    "<center style=\"color:blue;font-size:30px;padding:15px\"><b> LẬP TRÌNH CHO KHOA HỌC DỮ LIỆU</b></center>\n",
    "<center style=\"color:black;font-size:20px;padding:5px\"><b><a href=\"https://github.com/dhptrung/P4DS-FinalProject\">Thùng chứa GitHub</a></b></center>"
   ]
  },
  {
   "cell_type": "markdown",
   "id": "57412990-31df-471a-bcce-9e5f8cede167",
   "metadata": {},
   "source": [
    "---"
   ]
  },
  {
   "cell_type": "markdown",
   "id": "b93f45d5-46dc-4895-bcd5-886d0faa0e87",
   "metadata": {},
   "source": [
    "| MSSV | Họ và tên | Tài khoản GitHub |\n",
    "|:----:|:---:|:---:|\n",
    "|18120066| Bùi Đoàn Hữu Nhân | https://github.com/bdhnhan |\n",
    "|18120097| Đinh Hữu Phúc Trung| https://github.com/dhptrung |"
   ]
  },
  {
   "cell_type": "markdown",
   "id": "2e868630-a282-47df-a86c-40a6bc22a15a",
   "metadata": {},
   "source": [
    "# Import các thư viện cần thiết"
   ]
  },
  {
   "cell_type": "code",
   "execution_count": 1,
   "id": "86f66f48",
   "metadata": {},
   "outputs": [],
   "source": [
    "import numpy as np\n",
    "import pandas as pd\n",
    "import matplotlib.pyplot as plt"
   ]
  },
  {
   "cell_type": "markdown",
   "id": "c671618b-e9d1-4874-ad22-8451a383a0f4",
   "metadata": {},
   "source": [
    "# Thu thập dữ liệu"
   ]
  },
  {
   "cell_type": "markdown",
   "id": "39a9d1e7",
   "metadata": {},
   "source": [
    "## Dữ liệu là về chủ đề gì và lấy từ nguồn nào?"
   ]
  },
  {
   "cell_type": "markdown",
   "id": "e6064da3-8d5a-4c20-a8da-781a50eaef6a",
   "metadata": {},
   "source": [
    "- Chủ đề: Về tuổi thọ của các quốc gia, là tập hợp các yếu tố ảnh hưởng đến tuổi thọ trung bình của các quốc gia trên thế giới.\n",
    "- Nguồn: Tập dữ liệu được lấy từ Kaggle - [WHO national life expectancy](https://www.kaggle.com/mmattson/who-national-life-expectancy)"
   ]
  },
  {
   "cell_type": "markdown",
   "id": "1e464b46",
   "metadata": {},
   "source": [
    "## Người ta có cho phép dùng dữ liệu như này không?"
   ]
  },
  {
   "cell_type": "markdown",
   "id": "50bb4bfd",
   "metadata": {},
   "source": [
    "- Đây là bộ dữ liệu được tác giả công khai và cung cấp theo giấy phép **CC0: Public Domain (Giấy phép Creative Commons)**.\n",
    "- Với giấy phép trên tác giả từ chối toàn bộ quyền sở hữu đối với bộ dữ liệu này. Bắt cứ ai đều có thể sao chép, sửa đổi, phân phối, ngay cả cho mục đích thương mại mà không cần xin phép."
   ]
  },
  {
   "cell_type": "markdown",
   "id": "e1ec8f93",
   "metadata": {},
   "source": [
    "## Người ta thu thập dữ liệu như thế nào?"
   ]
  },
  {
   "cell_type": "markdown",
   "id": "628ad962-f7d4-466c-b722-b5fa49729894",
   "metadata": {},
   "source": [
    "- Bộ dữ liệu này được WHO cung cấp và được thu thập từ nhiều nguồn, chủ yếu là sử dụng thông tin của GHO (Đài quan sát sức khỏe toàn cầu) và UNESCO (Tổ chức Giáo dục, Khoa học và Văn hóa Liên Hợp Quốc).\n",
    "- Tập dữ liệu được sử dụng trong đồ án này là một phần nhỏ các yếu tố ảnh hưởng đến tuổi thọ của 183 quốc gia và trong khoảng thời gian từ 2000-2016. "
   ]
  },
  {
   "cell_type": "markdown",
   "id": "c4ea71bb-b109-40a1-9298-19aea7e18bfa",
   "metadata": {},
   "source": [
    "# Khám phá dữ liệu"
   ]
  },
  {
   "cell_type": "markdown",
   "id": "f56737bd",
   "metadata": {},
   "source": [
    "## Đọc dữ liệu vào dataframe"
   ]
  },
  {
   "cell_type": "code",
   "execution_count": 2,
   "id": "cb269efc-484f-43e8-a7ad-99ee4f5cef0c",
   "metadata": {},
   "outputs": [
    {
     "data": {
      "text/html": [
       "<div>\n",
       "<style scoped>\n",
       "    .dataframe tbody tr th:only-of-type {\n",
       "        vertical-align: middle;\n",
       "    }\n",
       "\n",
       "    .dataframe tbody tr th {\n",
       "        vertical-align: top;\n",
       "    }\n",
       "\n",
       "    .dataframe thead th {\n",
       "        text-align: right;\n",
       "    }\n",
       "</style>\n",
       "<table border=\"1\" class=\"dataframe\">\n",
       "  <thead>\n",
       "    <tr style=\"text-align: right;\">\n",
       "      <th></th>\n",
       "      <th>country</th>\n",
       "      <th>country_code</th>\n",
       "      <th>region</th>\n",
       "      <th>year</th>\n",
       "      <th>life_expect</th>\n",
       "      <th>life_exp60</th>\n",
       "      <th>adult_mortality</th>\n",
       "      <th>infant_mort</th>\n",
       "      <th>age1-4mort</th>\n",
       "      <th>alcohol</th>\n",
       "      <th>...</th>\n",
       "      <th>che_gdp</th>\n",
       "      <th>une_pop</th>\n",
       "      <th>une_infant</th>\n",
       "      <th>une_life</th>\n",
       "      <th>une_hiv</th>\n",
       "      <th>une_gni</th>\n",
       "      <th>une_poverty</th>\n",
       "      <th>une_edu_spend</th>\n",
       "      <th>une_literacy</th>\n",
       "      <th>une_school</th>\n",
       "    </tr>\n",
       "  </thead>\n",
       "  <tbody>\n",
       "    <tr>\n",
       "      <th>0</th>\n",
       "      <td>Angola</td>\n",
       "      <td>AGO</td>\n",
       "      <td>Africa</td>\n",
       "      <td>2000</td>\n",
       "      <td>47.33730</td>\n",
       "      <td>14.73400</td>\n",
       "      <td>383.5583</td>\n",
       "      <td>0.137985</td>\n",
       "      <td>0.025695</td>\n",
       "      <td>1.47439</td>\n",
       "      <td>...</td>\n",
       "      <td>1.90860</td>\n",
       "      <td>16395.473</td>\n",
       "      <td>122.2</td>\n",
       "      <td>46.522</td>\n",
       "      <td>1.0</td>\n",
       "      <td>2530.0</td>\n",
       "      <td>32.3</td>\n",
       "      <td>2.60753</td>\n",
       "      <td>NaN</td>\n",
       "      <td>NaN</td>\n",
       "    </tr>\n",
       "    <tr>\n",
       "      <th>1</th>\n",
       "      <td>Angola</td>\n",
       "      <td>AGO</td>\n",
       "      <td>Africa</td>\n",
       "      <td>2001</td>\n",
       "      <td>48.19789</td>\n",
       "      <td>14.95963</td>\n",
       "      <td>372.3876</td>\n",
       "      <td>0.133675</td>\n",
       "      <td>0.024500</td>\n",
       "      <td>1.94025</td>\n",
       "      <td>...</td>\n",
       "      <td>4.48352</td>\n",
       "      <td>16945.753</td>\n",
       "      <td>118.9</td>\n",
       "      <td>47.059</td>\n",
       "      <td>1.1</td>\n",
       "      <td>2630.0</td>\n",
       "      <td>NaN</td>\n",
       "      <td>NaN</td>\n",
       "      <td>67.40542</td>\n",
       "      <td>NaN</td>\n",
       "    </tr>\n",
       "    <tr>\n",
       "      <th>2</th>\n",
       "      <td>Angola</td>\n",
       "      <td>AGO</td>\n",
       "      <td>Africa</td>\n",
       "      <td>2002</td>\n",
       "      <td>49.42569</td>\n",
       "      <td>15.20010</td>\n",
       "      <td>354.5147</td>\n",
       "      <td>0.128320</td>\n",
       "      <td>0.023260</td>\n",
       "      <td>2.07512</td>\n",
       "      <td>...</td>\n",
       "      <td>3.32946</td>\n",
       "      <td>17519.417</td>\n",
       "      <td>115.1</td>\n",
       "      <td>47.702</td>\n",
       "      <td>1.2</td>\n",
       "      <td>3180.0</td>\n",
       "      <td>NaN</td>\n",
       "      <td>NaN</td>\n",
       "      <td>NaN</td>\n",
       "      <td>NaN</td>\n",
       "    </tr>\n",
       "    <tr>\n",
       "      <th>3</th>\n",
       "      <td>Angola</td>\n",
       "      <td>AGO</td>\n",
       "      <td>Africa</td>\n",
       "      <td>2003</td>\n",
       "      <td>50.50266</td>\n",
       "      <td>15.39144</td>\n",
       "      <td>343.2169</td>\n",
       "      <td>0.122040</td>\n",
       "      <td>0.021925</td>\n",
       "      <td>2.20275</td>\n",
       "      <td>...</td>\n",
       "      <td>3.54797</td>\n",
       "      <td>18121.479</td>\n",
       "      <td>110.8</td>\n",
       "      <td>48.440</td>\n",
       "      <td>1.3</td>\n",
       "      <td>3260.0</td>\n",
       "      <td>NaN</td>\n",
       "      <td>NaN</td>\n",
       "      <td>NaN</td>\n",
       "      <td>NaN</td>\n",
       "    </tr>\n",
       "    <tr>\n",
       "      <th>4</th>\n",
       "      <td>Angola</td>\n",
       "      <td>AGO</td>\n",
       "      <td>Africa</td>\n",
       "      <td>2004</td>\n",
       "      <td>51.52863</td>\n",
       "      <td>15.56860</td>\n",
       "      <td>333.8711</td>\n",
       "      <td>0.115700</td>\n",
       "      <td>0.020545</td>\n",
       "      <td>2.41274</td>\n",
       "      <td>...</td>\n",
       "      <td>3.96720</td>\n",
       "      <td>18758.145</td>\n",
       "      <td>106.2</td>\n",
       "      <td>49.263</td>\n",
       "      <td>1.3</td>\n",
       "      <td>3560.0</td>\n",
       "      <td>NaN</td>\n",
       "      <td>NaN</td>\n",
       "      <td>NaN</td>\n",
       "      <td>NaN</td>\n",
       "    </tr>\n",
       "  </tbody>\n",
       "</table>\n",
       "<p>5 rows × 32 columns</p>\n",
       "</div>"
      ],
      "text/plain": [
       "  country country_code  region  year  life_expect  life_exp60  \\\n",
       "0  Angola          AGO  Africa  2000     47.33730    14.73400   \n",
       "1  Angola          AGO  Africa  2001     48.19789    14.95963   \n",
       "2  Angola          AGO  Africa  2002     49.42569    15.20010   \n",
       "3  Angola          AGO  Africa  2003     50.50266    15.39144   \n",
       "4  Angola          AGO  Africa  2004     51.52863    15.56860   \n",
       "\n",
       "   adult_mortality  infant_mort  age1-4mort  alcohol  ...  che_gdp    une_pop  \\\n",
       "0         383.5583     0.137985    0.025695  1.47439  ...  1.90860  16395.473   \n",
       "1         372.3876     0.133675    0.024500  1.94025  ...  4.48352  16945.753   \n",
       "2         354.5147     0.128320    0.023260  2.07512  ...  3.32946  17519.417   \n",
       "3         343.2169     0.122040    0.021925  2.20275  ...  3.54797  18121.479   \n",
       "4         333.8711     0.115700    0.020545  2.41274  ...  3.96720  18758.145   \n",
       "\n",
       "   une_infant  une_life  une_hiv  une_gni  une_poverty  une_edu_spend  \\\n",
       "0       122.2    46.522      1.0   2530.0         32.3        2.60753   \n",
       "1       118.9    47.059      1.1   2630.0          NaN            NaN   \n",
       "2       115.1    47.702      1.2   3180.0          NaN            NaN   \n",
       "3       110.8    48.440      1.3   3260.0          NaN            NaN   \n",
       "4       106.2    49.263      1.3   3560.0          NaN            NaN   \n",
       "\n",
       "   une_literacy  une_school  \n",
       "0           NaN         NaN  \n",
       "1      67.40542         NaN  \n",
       "2           NaN         NaN  \n",
       "3           NaN         NaN  \n",
       "4           NaN         NaN  \n",
       "\n",
       "[5 rows x 32 columns]"
      ]
     },
     "execution_count": 2,
     "metadata": {},
     "output_type": "execute_result"
    }
   ],
   "source": [
    "df = pd.read_csv('who_life_exp.csv')\n",
    "df.head()"
   ]
  },
  {
   "cell_type": "markdown",
   "id": "f0bb4e17",
   "metadata": {},
   "source": [
    "## Dữ liệu có bao nhiêu dòng và bao nhiêu cột?"
   ]
  },
  {
   "cell_type": "code",
   "execution_count": 3,
   "id": "ae8f303d-7f82-4239-88cf-96259df56216",
   "metadata": {},
   "outputs": [
    {
     "data": {
      "text/plain": [
       "(3111, 32)"
      ]
     },
     "execution_count": 3,
     "metadata": {},
     "output_type": "execute_result"
    }
   ],
   "source": [
    "df.shape"
   ]
  },
  {
   "cell_type": "markdown",
   "id": "2b6b3c3e-7c3f-43c5-bca5-85fb493d8423",
   "metadata": {},
   "source": [
    "Dữ liệu có **3111 dòng** và **32 cột**."
   ]
  },
  {
   "cell_type": "markdown",
   "id": "ae828323",
   "metadata": {},
   "source": [
    "## Mỗi dòng có ý nghĩa gì? Có vấn đề các dòng có ý nghĩa khác nhau không?"
   ]
  },
  {
   "cell_type": "markdown",
   "id": "798b658e-2778-4460-b9c3-f2739d451795",
   "metadata": {},
   "source": []
  },
  {
   "cell_type": "markdown",
   "id": "10f735ab",
   "metadata": {},
   "source": [
    "## Dữ liệu có các dòng bị lặp không?"
   ]
  },
  {
   "cell_type": "code",
   "execution_count": 6,
   "id": "baf13845-f909-424d-a8ec-5b1780accd99",
   "metadata": {},
   "outputs": [
    {
     "data": {
      "text/plain": [
       "False"
      ]
     },
     "execution_count": 6,
     "metadata": {},
     "output_type": "execute_result"
    }
   ],
   "source": [
    "have_duplicated_rows = df.duplicated().any()\n",
    "have_duplicated_rows"
   ]
  },
  {
   "cell_type": "markdown",
   "id": "35cfa4ae-28f2-4b4d-8778-c8690c8576ee",
   "metadata": {},
   "source": [
    "Dữ liệu không có dòng nào bị lặp."
   ]
  },
  {
   "cell_type": "markdown",
   "id": "bb70a97a",
   "metadata": {},
   "source": [
    "## Mỗi cột có ý nghĩa gì?"
   ]
  },
  {
   "cell_type": "markdown",
   "id": "c37c9620-4d06-4941-bd04-32365c791941",
   "metadata": {},
   "source": []
  },
  {
   "cell_type": "markdown",
   "id": "8b756811",
   "metadata": {},
   "source": [
    "## Mỗi cột hiện đang có kiểu dữ liệu gì? Có cột nào có kiểu dữ liệu chưa phù hợp để có thể xử lý tiếp không?"
   ]
  },
  {
   "cell_type": "code",
   "execution_count": 8,
   "id": "67e542cf-cc52-4f40-b5f5-65a6bfba570b",
   "metadata": {},
   "outputs": [
    {
     "data": {
      "text/plain": [
       "country             object\n",
       "country_code        object\n",
       "region              object\n",
       "year                 int64\n",
       "life_expect        float64\n",
       "life_exp60         float64\n",
       "adult_mortality    float64\n",
       "infant_mort        float64\n",
       "age1-4mort         float64\n",
       "alcohol            float64\n",
       "bmi                float64\n",
       "age5-19thinness    float64\n",
       "age5-19obesity     float64\n",
       "hepatitis          float64\n",
       "measles            float64\n",
       "polio              float64\n",
       "diphtheria         float64\n",
       "basic_water        float64\n",
       "doctors            float64\n",
       "hospitals          float64\n",
       "gni_capita         float64\n",
       "gghe-d             float64\n",
       "che_gdp            float64\n",
       "une_pop            float64\n",
       "une_infant         float64\n",
       "une_life           float64\n",
       "une_hiv            float64\n",
       "une_gni            float64\n",
       "une_poverty        float64\n",
       "une_edu_spend      float64\n",
       "une_literacy       float64\n",
       "une_school         float64\n",
       "dtype: object"
      ]
     },
     "execution_count": 8,
     "metadata": {},
     "output_type": "execute_result"
    }
   ],
   "source": [
    "df.dtypes"
   ]
  },
  {
   "cell_type": "markdown",
   "id": "f68722ac-b82a-4796-b44f-8994d1b21b27",
   "metadata": {},
   "source": [
    "Tất cả các cột đều đã có kiểu dữ liệu phù hợp."
   ]
  },
  {
   "cell_type": "markdown",
   "id": "be09fcb0-a9b3-497f-a168-158d8c399b79",
   "metadata": {},
   "source": [
    "# Tiền xử lý dữ liệu"
   ]
  },
  {
   "cell_type": "markdown",
   "id": "ad343b52",
   "metadata": {},
   "source": []
  },
  {
   "cell_type": "markdown",
   "id": "92c023d8",
   "metadata": {},
   "source": [
    "# Khám phá dữ liệu (tiếp tục)"
   ]
  },
  {
   "cell_type": "markdown",
   "id": "76e3d3ee",
   "metadata": {},
   "source": [
    "## Với mỗi cột có kiểu dữ liệu dạng số (numerical), các giá trị được phân bố như thế nào?"
   ]
  },
  {
   "cell_type": "code",
   "execution_count": null,
   "id": "52b06e1a-491f-4ee9-8892-582dc6eb2476",
   "metadata": {},
   "outputs": [],
   "source": []
  },
  {
   "cell_type": "markdown",
   "id": "9e664448",
   "metadata": {},
   "source": [
    "## Với mỗi cột có kiểu dữ liệu dạng phân loại (categorical), các giá trị được phân bố như thế nào?"
   ]
  },
  {
   "cell_type": "code",
   "execution_count": null,
   "id": "ad8217d3-6a3a-48c2-b5af-bef2b28a842b",
   "metadata": {},
   "outputs": [],
   "source": []
  },
  {
   "cell_type": "markdown",
   "id": "1d2b31b0",
   "metadata": {},
   "source": [
    "# Đưa ra các câu hỏi cần trả lời"
   ]
  },
  {
   "cell_type": "markdown",
   "id": "3e8b0b59",
   "metadata": {},
   "source": [
    "## Câu hỏi là gì?"
   ]
  },
  {
   "cell_type": "markdown",
   "id": "dfa8a926",
   "metadata": {},
   "source": [
    "## Nếu trả lời được câu hỏi thì sẽ có lợi ích gì?"
   ]
  },
  {
   "cell_type": "markdown",
   "id": "5027739f",
   "metadata": {},
   "source": [
    "# Tiền xử lý + phân tích dữ liệu để trả lời câu hỏi"
   ]
  },
  {
   "cell_type": "markdown",
   "id": "83cfb0b4",
   "metadata": {},
   "source": [
    "## Câu 1"
   ]
  },
  {
   "cell_type": "markdown",
   "id": "01561ea9",
   "metadata": {},
   "source": [
    "### Tiền xử lý (nếu có)"
   ]
  },
  {
   "cell_type": "markdown",
   "id": "86c17121",
   "metadata": {},
   "source": [
    "### Phân tích"
   ]
  },
  {
   "cell_type": "markdown",
   "id": "82d6de07",
   "metadata": {},
   "source": [
    "## Câu 2"
   ]
  },
  {
   "cell_type": "markdown",
   "id": "0ba92255",
   "metadata": {},
   "source": [
    "### Tiền xử lý (nếu có)"
   ]
  },
  {
   "cell_type": "markdown",
   "id": "8523af1f",
   "metadata": {},
   "source": [
    "### Phân tích"
   ]
  },
  {
   "cell_type": "markdown",
   "id": "00758103",
   "metadata": {},
   "source": [
    "## Câu 3"
   ]
  },
  {
   "cell_type": "markdown",
   "id": "f68891e6",
   "metadata": {},
   "source": []
  },
  {
   "cell_type": "markdown",
   "id": "638dc9f6",
   "metadata": {},
   "source": [
    "# Nhìn lại quá trình làm đồ án"
   ]
  },
  {
   "cell_type": "markdown",
   "id": "8336bf6c",
   "metadata": {},
   "source": [
    "## Đã gặp những khó khăn gì?"
   ]
  },
  {
   "cell_type": "markdown",
   "id": "bf022b73",
   "metadata": {},
   "source": [
    "### Nhân"
   ]
  },
  {
   "cell_type": "markdown",
   "id": "1fc29630",
   "metadata": {},
   "source": [
    "### Trung"
   ]
  },
  {
   "cell_type": "markdown",
   "id": "95f5341e",
   "metadata": {},
   "source": [
    "## Có học được gì hữu ích không?"
   ]
  },
  {
   "cell_type": "markdown",
   "id": "c6a90598",
   "metadata": {},
   "source": [
    "### Nhân "
   ]
  },
  {
   "cell_type": "markdown",
   "id": "99def3c9",
   "metadata": {},
   "source": [
    "### Trung"
   ]
  },
  {
   "cell_type": "markdown",
   "id": "9a4aca7a",
   "metadata": {},
   "source": [
    "## Nếu có thêm thời gian thì sẽ làm gì?"
   ]
  },
  {
   "cell_type": "markdown",
   "id": "f17201b8",
   "metadata": {},
   "source": [
    "# Tài liệu tham khảo"
   ]
  }
 ],
 "metadata": {
  "kernelspec": {
   "display_name": "Python 3 (ipykernel)",
   "language": "python",
   "name": "python3"
  },
  "language_info": {
   "codemirror_mode": {
    "name": "ipython",
    "version": 3
   },
   "file_extension": ".py",
   "mimetype": "text/x-python",
   "name": "python",
   "nbconvert_exporter": "python",
   "pygments_lexer": "ipython3",
   "version": "3.8.8"
  },
  "toc-autonumbering": true,
  "toc-showcode": true,
  "toc-showmarkdowntxt": false,
  "toc-showtags": false
 },
 "nbformat": 4,
 "nbformat_minor": 5
}
